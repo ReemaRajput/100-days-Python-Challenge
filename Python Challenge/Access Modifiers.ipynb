{
 "cells": [
  {
   "cell_type": "code",
   "execution_count": 1,
   "id": "044ecf4f",
   "metadata": {},
   "outputs": [
    {
     "name": "stdout",
     "output_type": "stream",
     "text": [
      "Reema\n"
     ]
    }
   ],
   "source": [
    "#PUBLIC ACCESS MODIFIERS\n",
    "\n",
    "class Employee:\n",
    "    def __init__(self):\n",
    "        self.name = \"Reema\"\n",
    "\n",
    "a = Employee()\n",
    "print(a.name)\n"
   ]
  },
  {
   "cell_type": "code",
   "execution_count": 8,
   "id": "e7699a25",
   "metadata": {},
   "outputs": [
    {
     "name": "stdout",
     "output_type": "stream",
     "text": [
      "Reema\n",
      "['_Employee__name', '__module__', '__init__', '__dict__', '__weakref__', '__doc__', '__new__', '__repr__', '__hash__', '__str__', '__getattribute__', '__setattr__', '__delattr__', '__lt__', '__le__', '__eq__', '__ne__', '__gt__', '__ge__', '__reduce_ex__', '__reduce__', '__getstate__', '__subclasshook__', '__init_subclass__', '__format__', '__sizeof__', '__dir__', '__class__']\n"
     ]
    }
   ],
   "source": [
    "#PRIVATE ACCESS MODIFIERS\n",
    "\n",
    "class Employee:\n",
    "    def __init__(self):\n",
    "        self.__name = \"Reema\"\n",
    "\n",
    "a = Employee()\n",
    "# print(a.__name) # cannot be accessed directly\n",
    "print(a._Employee__name) #Can be accessed indirectly\n",
    "print(a.__dir__())"
   ]
  },
  {
   "cell_type": "code",
   "execution_count": 10,
   "id": "4b0bdf88",
   "metadata": {},
   "outputs": [
    {
     "name": "stdout",
     "output_type": "stream",
     "text": [
      "['__class__', '__delattr__', '__dict__', '__dir__', '__doc__', '__eq__', '__format__', '__ge__', '__getattribute__', '__getstate__', '__gt__', '__hash__', '__init__', '__init_subclass__', '__le__', '__lt__', '__module__', '__ne__', '__new__', '__reduce__', '__reduce_ex__', '__repr__', '__setattr__', '__sizeof__', '__str__', '__subclasshook__', '__weakref__', '_funName', '_name']\n",
      "REEMA\n",
      "CodeWithHarry\n",
      "REEMA\n",
      "CodeWithHarry\n"
     ]
    }
   ],
   "source": [
    "#PROTECTED ACCESS MODIFIERS\n",
    "class Student:\n",
    "    def __init__(self):\n",
    "        self._name = \"REEMA\"\n",
    "\n",
    "    def _funName(self):      # protected method\n",
    "        return \"CodeWithHarry\"\n",
    "\n",
    "class Subject(Student):       #inherited class\n",
    "    pass\n",
    "\n",
    "obj = Student()\n",
    "obj1 = Subject()\n",
    "print(dir(obj))\n",
    "\n",
    "# calling by object of Student class\n",
    "print(obj._name)      \n",
    "print(obj._funName())     \n",
    "# calling by object of Subject class\n",
    "print(obj1._name)    \n",
    "print(obj1._funName())"
   ]
  },
  {
   "cell_type": "code",
   "execution_count": null,
   "id": "f47085ea",
   "metadata": {},
   "outputs": [],
   "source": [
    "#NAME MANGLING: Technique used to protect class-private and sub class private from accidentally overwritten \n",
    "#Single underscore is just a naming convention Double underscore is considered mangling"
   ]
  }
 ],
 "metadata": {
  "kernelspec": {
   "display_name": "Python 3 (ipykernel)",
   "language": "python",
   "name": "python3"
  },
  "language_info": {
   "codemirror_mode": {
    "name": "ipython",
    "version": 3
   },
   "file_extension": ".py",
   "mimetype": "text/x-python",
   "name": "python",
   "nbconvert_exporter": "python",
   "pygments_lexer": "ipython3",
   "version": "3.11.5"
  }
 },
 "nbformat": 4,
 "nbformat_minor": 5
}
