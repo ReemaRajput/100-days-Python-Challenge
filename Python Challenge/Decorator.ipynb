{
 "cells": [
  {
   "cell_type": "code",
   "execution_count": 1,
   "id": "982b48b3",
   "metadata": {},
   "outputs": [
    {
     "name": "stdout",
     "output_type": "stream",
     "text": [
      "Good Morning\n",
      "Hello world\n",
      "Thanks for using this function\n"
     ]
    }
   ],
   "source": [
    "def greet(fx):\n",
    "    def mfx():\n",
    "        print(\"Good Morning\")\n",
    "        fx()\n",
    "        print(\"Thanks for using this function\")\n",
    "    return mfx\n",
    "\n",
    "@greet\n",
    "def hello():\n",
    "    print(\"Hello world\")\n",
    "\n",
    "hello()"
   ]
  },
  {
   "cell_type": "code",
   "execution_count": 2,
   "id": "9b1fda91",
   "metadata": {},
   "outputs": [
    {
     "name": "stdout",
     "output_type": "stream",
     "text": [
      "Good Morning\n",
      "Hello world\n",
      "Thanks for using this function\n",
      "Good Morning\n",
      "4\n",
      "Thanks for using this function\n"
     ]
    }
   ],
   "source": [
    "def greet(fx):\n",
    "    def mfx(*args, **kwargs):\n",
    "        print(\"Good Morning\")\n",
    "        fx(*args, **kwargs)\n",
    "        print(\"Thanks for using this function\")\n",
    "    return mfx\n",
    "\n",
    "@greet\n",
    "def hello():\n",
    "    print(\"Hello world\")\n",
    "@greet\n",
    "def add(a, b):\n",
    "    print(a+b)\n",
    "\n",
    "hello()\n",
    "add(2,2)"
   ]
  },
  {
   "cell_type": "code",
   "execution_count": 3,
   "id": "0f2d65a5",
   "metadata": {},
   "outputs": [],
   "source": [
    "#Decorators modifies a function\n",
    "# *args: way to take argument as tuple\n",
    "# **kwargs: way to take argument as dict"
   ]
  },
  {
   "cell_type": "code",
   "execution_count": null,
   "id": "7aeb5f34",
   "metadata": {},
   "outputs": [],
   "source": []
  }
 ],
 "metadata": {
  "kernelspec": {
   "display_name": "Python 3 (ipykernel)",
   "language": "python",
   "name": "python3"
  },
  "language_info": {
   "codemirror_mode": {
    "name": "ipython",
    "version": 3
   },
   "file_extension": ".py",
   "mimetype": "text/x-python",
   "name": "python",
   "nbconvert_exporter": "python",
   "pygments_lexer": "ipython3",
   "version": "3.11.5"
  }
 },
 "nbformat": 4,
 "nbformat_minor": 5
}
