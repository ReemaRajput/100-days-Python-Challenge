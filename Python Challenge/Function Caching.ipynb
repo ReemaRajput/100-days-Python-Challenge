{
 "cells": [
  {
   "cell_type": "code",
   "execution_count": 3,
   "id": "d6b16e60",
   "metadata": {},
   "outputs": [
    {
     "name": "stdout",
     "output_type": "stream",
     "text": [
      "100\n",
      "done for 20\n",
      "10\n",
      "done for 2\n",
      "30\n",
      "done for 6\n",
      "100\n",
      "done for 20\n",
      "100\n",
      "done for 8\n",
      "100\n",
      "done for 20\n",
      "10\n",
      "done for 2\n",
      "30\n",
      "done for 6\n",
      "100\n",
      "done for 20\n",
      "100\n",
      "done for 8\n"
     ]
    }
   ],
   "source": [
    "from functools import lru_cache\n",
    "import time\n",
    "\n",
    "@lru_cache(maxsize=None)\n",
    "def fx(n):\n",
    "    time.sleep(5)\n",
    "    return n*5\n",
    "\n",
    "print(fx(20))\n",
    "print(\"done for 20\")\n",
    "print(fx(2))\n",
    "print(\"done for 2\")\n",
    "print(fx(6))\n",
    "print(\"done for 6\")\n",
    "print(fx(20))\n",
    "print(\"done for 20\")\n",
    "print(fx(20))\n",
    "print(\"done for 8\")\n",
    "\n",
    "print(fx(20))\n",
    "print(\"done for 20\")\n",
    "print(fx(2))\n",
    "print(\"done for 2\")\n",
    "print(fx(6))\n",
    "print(\"done for 6\")\n",
    "print(fx(20))\n",
    "print(\"done for 20\")\n",
    "print(fx(20))\n",
    "print(\"done for 8\")"
   ]
  },
  {
   "cell_type": "code",
   "execution_count": null,
   "id": "82126406",
   "metadata": {},
   "outputs": [],
   "source": [
    "#memoization technique"
   ]
  }
 ],
 "metadata": {
  "kernelspec": {
   "display_name": "Python 3 (ipykernel)",
   "language": "python",
   "name": "python3"
  },
  "language_info": {
   "codemirror_mode": {
    "name": "ipython",
    "version": 3
   },
   "file_extension": ".py",
   "mimetype": "text/x-python",
   "name": "python",
   "nbconvert_exporter": "python",
   "pygments_lexer": "ipython3",
   "version": "3.11.5"
  }
 },
 "nbformat": 4,
 "nbformat_minor": 5
}
