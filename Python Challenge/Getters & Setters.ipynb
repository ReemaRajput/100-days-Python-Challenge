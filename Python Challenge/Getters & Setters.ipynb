{
 "cells": [
  {
   "cell_type": "code",
   "execution_count": 14,
   "id": "4f30a90a",
   "metadata": {},
   "outputs": [
    {
     "name": "stdout",
     "output_type": "stream",
     "text": [
      "Alice\n",
      "30\n",
      "10\n",
      "20\n"
     ]
    }
   ],
   "source": [
    "#Getter\n",
    "class Person:\n",
    "    def __init__(self, name, age):\n",
    "        self.name = name  # 'name' is an attribute storing the person's name\n",
    "        self.age = age    # 'age' is an attribute storing the person's age\n",
    "\n",
    "# Creating an instance of the class Person\n",
    "person1 = Person(\"Alice\", 30)\n",
    "\n",
    "# Accessing the attributes\n",
    "print(person1.name)  # Output: Alice\n",
    "print(person1.age)   # Output: 30\n",
    "\n",
    "\n",
    "#Setter\n",
    "class MyClass:\n",
    "    def __init__(self, value):\n",
    "        self._value = value\n",
    "\n",
    "    @property\n",
    "    def get_value(self):\n",
    "        return self._value\n",
    "\n",
    "    @get_value.setter\n",
    "    def set_value(self, new_value):\n",
    "        self._value = new_value\n",
    "\n",
    "obj = MyClass(10)\n",
    "print(obj.get_value)  # Accessing the value using the getter\n",
    "obj.set_value = 20     # Setting the value using the setter\n",
    "print(obj.get_value)  # Accessing the updated value using the getter\n"
   ]
  },
  {
   "cell_type": "code",
   "execution_count": null,
   "id": "f70b755d",
   "metadata": {},
   "outputs": [],
   "source": [
    "#Getters are method used to access the value of an object's properties."
   ]
  }
 ],
 "metadata": {
  "kernelspec": {
   "display_name": "Python 3 (ipykernel)",
   "language": "python",
   "name": "python3"
  },
  "language_info": {
   "codemirror_mode": {
    "name": "ipython",
    "version": 3
   },
   "file_extension": ".py",
   "mimetype": "text/x-python",
   "name": "python",
   "nbconvert_exporter": "python",
   "pygments_lexer": "ipython3",
   "version": "3.11.5"
  }
 },
 "nbformat": 4,
 "nbformat_minor": 5
}
