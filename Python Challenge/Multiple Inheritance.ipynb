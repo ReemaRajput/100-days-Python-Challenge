{
 "cells": [
  {
   "cell_type": "code",
   "execution_count": 7,
   "id": "902b4cde",
   "metadata": {},
   "outputs": [
    {
     "name": "stdout",
     "output_type": "stream",
     "text": [
      "Shivani\n",
      "Kathak\n",
      "The name is Shivani\n",
      "[<class '__main__.DancerEmployee'>, <class '__main__.Employee'>, <class '__main__.Dancer'>, <class 'object'>]\n"
     ]
    }
   ],
   "source": [
    "class Employee:\n",
    "    def __init__(self):\n",
    "        self.name = name\n",
    "    def show(self):\n",
    "        print(f\"The name is {self.name}\")\n",
    "        \n",
    "class Dancer:\n",
    "    def __init__(self, dance):\n",
    "        self.dance = dance\n",
    "        \n",
    "    def show(self):\n",
    "        print(f\"The dance is {self.dance}\")\n",
    "        \n",
    "class DancerEmployee(Employee, Dancer):\n",
    "     def __init__(self, dance, name):\n",
    "        self.dance = dance\n",
    "        self.name = name\n",
    "        \n",
    "o = DancerEmployee(\"Kathak\", \"Shivani\")\n",
    "print(o.name)\n",
    "print(o.dance)\n",
    "o.show()   \n",
    "print(DancerEmployee.mro())"
   ]
  },
  {
   "cell_type": "code",
   "execution_count": 6,
   "id": "9ae66a8d",
   "metadata": {},
   "outputs": [
    {
     "name": "stdout",
     "output_type": "stream",
     "text": [
      "Shivani\n",
      "Kathak\n",
      "The dance is Kathak\n",
      "[<class '__main__.DancerEmployee'>, <class '__main__.Dancer'>, <class '__main__.Employee'>, <class 'object'>]\n"
     ]
    }
   ],
   "source": [
    "class Employee:\n",
    "    def __init__(self):\n",
    "        self.name = name\n",
    "    def show(self):\n",
    "        print(f\"The name is {self.name}\")\n",
    "        \n",
    "class Dancer:\n",
    "    def __init__(self, dance):\n",
    "        self.dance = dance\n",
    "        \n",
    "    def show(self):\n",
    "        print(f\"The dance is {self.dance}\")\n",
    "        \n",
    "class DancerEmployee(Dancer, Employee):\n",
    "     def __init__(self, dance, name):\n",
    "        self.dance = dance\n",
    "        self.name = name\n",
    "        \n",
    "o = DancerEmployee(\"Kathak\", \"Shivani\")\n",
    "print(o.name)\n",
    "print(o.dance)\n",
    "o.show()     \n",
    "print(DancerEmployee.mro()) #mro() tells where the method will be searched 1.DancerEmployee 2.Dancer 3.Employee"
   ]
  },
  {
   "cell_type": "code",
   "execution_count": null,
   "id": "05981111",
   "metadata": {},
   "outputs": [],
   "source": []
  }
 ],
 "metadata": {
  "kernelspec": {
   "display_name": "Python 3 (ipykernel)",
   "language": "python",
   "name": "python3"
  },
  "language_info": {
   "codemirror_mode": {
    "name": "ipython",
    "version": 3
   },
   "file_extension": ".py",
   "mimetype": "text/x-python",
   "name": "python",
   "nbconvert_exporter": "python",
   "pygments_lexer": "ipython3",
   "version": "3.11.5"
  }
 },
 "nbformat": 4,
 "nbformat_minor": 5
}
