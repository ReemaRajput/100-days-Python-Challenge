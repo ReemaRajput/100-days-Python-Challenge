{
 "cells": [
  {
   "cell_type": "code",
   "execution_count": 3,
   "id": "d4070e0d",
   "metadata": {},
   "outputs": [
    {
     "name": "stdout",
     "output_type": "stream",
     "text": [
      "Neha secret Agent\n"
     ]
    }
   ],
   "source": [
    "#class and object\n",
    "\n",
    "class Person:\n",
    "    name = \"Reema\"\n",
    "    occupation = \"Data analyst\"\n",
    "    age = 50\n",
    "    \n",
    "a = Person()\n",
    "a.name = \"Neha\"\n",
    "a.occupation = \"secret Agent\"\n",
    "print(a.name, a.occupation)"
   ]
  },
  {
   "cell_type": "code",
   "execution_count": 13,
   "id": "2e80dba1",
   "metadata": {},
   "outputs": [
    {
     "name": "stdout",
     "output_type": "stream",
     "text": [
      "Neha is a secret Agent\n",
      "Rohan is a CA\n",
      "Reema is a Data analyst\n"
     ]
    }
   ],
   "source": [
    "class Person:\n",
    "    #properties\n",
    "    name = \"Reema\"\n",
    "    occupation = \"Data analyst\"\n",
    "    age = 50\n",
    "    #methods\n",
    "    def info (self):  #self is the current instance of the class. It means that object for which this method is called\n",
    "        print(f\"{self.name} is a {self.occupation}\")\n",
    "#objects\n",
    "a = Person()\n",
    "b = Person()\n",
    "c = Person()\n",
    "\n",
    "a.name = \"Neha\"\n",
    "a.occupation = \"secret Agent\"\n",
    "\n",
    "b.name = \"Rohan\"\n",
    "b.occupation = \"CA\"\n",
    "\n",
    "a.info()\n",
    "b.info()\n",
    "c.info()"
   ]
  },
  {
   "cell_type": "code",
   "execution_count": null,
   "id": "2139571a",
   "metadata": {},
   "outputs": [],
   "source": []
  },
  {
   "cell_type": "code",
   "execution_count": null,
   "id": "7fc34126",
   "metadata": {},
   "outputs": [],
   "source": []
  },
  {
   "cell_type": "code",
   "execution_count": null,
   "id": "9a854f20",
   "metadata": {},
   "outputs": [],
   "source": []
  },
  {
   "cell_type": "code",
   "execution_count": null,
   "id": "54b4d2dc",
   "metadata": {},
   "outputs": [],
   "source": []
  },
  {
   "cell_type": "code",
   "execution_count": null,
   "id": "87ca45a3",
   "metadata": {},
   "outputs": [],
   "source": [
    "#class is the blueprint for creating objects."
   ]
  }
 ],
 "metadata": {
  "kernelspec": {
   "display_name": "Python 3 (ipykernel)",
   "language": "python",
   "name": "python3"
  },
  "language_info": {
   "codemirror_mode": {
    "name": "ipython",
    "version": 3
   },
   "file_extension": ".py",
   "mimetype": "text/x-python",
   "name": "python",
   "nbconvert_exporter": "python",
   "pygments_lexer": "ipython3",
   "version": "3.11.5"
  }
 },
 "nbformat": 4,
 "nbformat_minor": 5
}
