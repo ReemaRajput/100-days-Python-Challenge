{
 "cells": [
  {
   "cell_type": "code",
   "execution_count": 4,
   "id": "4e15d773",
   "metadata": {},
   "outputs": [
    {
     "name": "stdout",
     "output_type": "stream",
     "text": [
      "20\n",
      "30\n",
      "50\n",
      "40\n",
      "60\n",
      "Reema\n",
      "70\n",
      "80\n",
      "90\n"
     ]
    }
   ],
   "source": [
    "marks = [20,30,50,40,60,70,80,90]\n",
    "    \n",
    "index = 0\n",
    "for mark in marks:\n",
    "    print(mark)\n",
    "    if (index == 4):\n",
    "        print(\"Reema\")\n",
    "    index+=1\n",
    "    \n",
    "        "
   ]
  },
  {
   "cell_type": "code",
   "execution_count": 8,
   "id": "5a4dd9eb",
   "metadata": {},
   "outputs": [
    {
     "name": "stdout",
     "output_type": "stream",
     "text": [
      "20\n",
      "30\n",
      "50\n",
      "hello\n",
      "40\n",
      "60\n",
      "70\n",
      "80\n",
      "90\n"
     ]
    }
   ],
   "source": [
    "#enumerate function\n",
    "\n",
    "for index, mark in enumerate (marks):\n",
    "    print(mark)\n",
    "    if (index == 2):\n",
    "        print(\"hello\")"
   ]
  },
  {
   "cell_type": "code",
   "execution_count": 13,
   "id": "8314d3b8",
   "metadata": {},
   "outputs": [
    {
     "name": "stdout",
     "output_type": "stream",
     "text": [
      "20\n",
      "30\n",
      "50\n",
      "40\n",
      "60\n",
      "70\n",
      "80\n",
      "Rock-Paper-Scissor\n",
      "90\n",
      "Rock-Paper-Scissor\n"
     ]
    }
   ],
   "source": [
    "for index, mark in enumerate(marks,start=1):\n",
    "    print(mark)\n",
    "    if (index >6):\n",
    "        print(\"Rock-Paper-Scissor\")"
   ]
  },
  {
   "cell_type": "code",
   "execution_count": null,
   "id": "270d1800",
   "metadata": {},
   "outputs": [],
   "source": []
  }
 ],
 "metadata": {
  "kernelspec": {
   "display_name": "Python 3 (ipykernel)",
   "language": "python",
   "name": "python3"
  },
  "language_info": {
   "codemirror_mode": {
    "name": "ipython",
    "version": 3
   },
   "file_extension": ".py",
   "mimetype": "text/x-python",
   "name": "python",
   "nbconvert_exporter": "python",
   "pygments_lexer": "ipython3",
   "version": "3.11.5"
  }
 },
 "nbformat": 4,
 "nbformat_minor": 5
}
