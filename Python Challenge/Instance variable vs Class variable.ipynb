{
 "cells": [
  {
   "cell_type": "code",
   "execution_count": 1,
   "id": "7eda73e1",
   "metadata": {},
   "outputs": [
    {
     "name": "stdout",
     "output_type": "stream",
     "text": [
      "The name of the Employee is Reema and the raise amount in 1 sized Google is 0.3\n",
      "The name of the Employee is Rohan and the raise amount in 2 sized Apple is 0.02\n"
     ]
    }
   ],
   "source": [
    "class Employee:\n",
    "    companyName = \"Google\"  #Class Variable\n",
    "    noOfemployee = 0        #Class Variable\n",
    "    def __init__(self,name):\n",
    "        self.name = name\n",
    "        self.raise_amount = 0.02  #Instance variable\n",
    "        Employee.noOfemployee +=1\n",
    "    def showDetails(self):\n",
    "        print(f\"The name of the Employee is {self.name} and the raise amount in {self.noOfemployee} sized {self.companyName} is {self.raise_amount}\")\n",
    "    \n",
    "emp1 = Employee(\"Reema\")\n",
    "emp1.raise_amount = 0.3\n",
    "emp1.showDetails() \n",
    "emp2 = Employee(\"Rohan\")\n",
    "emp2.companyName = (\"Apple\") #first it looks for instance variable. If present it shows that orelse it shows Class Variable.\n",
    "emp2.showDetails() "
   ]
  },
  {
   "cell_type": "code",
   "execution_count": null,
   "id": "7dd2b16b",
   "metadata": {},
   "outputs": [],
   "source": []
  }
 ],
 "metadata": {
  "kernelspec": {
   "display_name": "Python 3 (ipykernel)",
   "language": "python",
   "name": "python3"
  },
  "language_info": {
   "codemirror_mode": {
    "name": "ipython",
    "version": 3
   },
   "file_extension": ".py",
   "mimetype": "text/x-python",
   "name": "python",
   "nbconvert_exporter": "python",
   "pygments_lexer": "ipython3",
   "version": "3.11.5"
  }
 },
 "nbformat": 4,
 "nbformat_minor": 5
}
