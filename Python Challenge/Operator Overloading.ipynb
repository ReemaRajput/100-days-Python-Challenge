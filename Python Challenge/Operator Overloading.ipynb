{
 "cells": [
  {
   "cell_type": "code",
   "execution_count": 7,
   "id": "353028c9",
   "metadata": {},
   "outputs": [
    {
     "name": "stdout",
     "output_type": "stream",
     "text": [
      "3i + 5j +6k\n",
      "1i + 2j +9k\n",
      "4i + 7j +15k\n",
      "<class '__main__.Vector'>\n"
     ]
    }
   ],
   "source": [
    "class Vector:\n",
    "    def __init__(self,i,j,k):\n",
    "        self.i =i\n",
    "        self.j = j\n",
    "        self.k = k\n",
    "        \n",
    "    def __str__(self):\n",
    "        return f\"{self.i}i + {self.j}j +{self.k}k\"\n",
    "    \n",
    "    def __add__(self,x):\n",
    "        return Vector(self.i+x.i, self.j+x.j, self.k+x.k)\n",
    "    \n",
    "v1 = Vector(3,5,6)\n",
    "print(v1)\n",
    "\n",
    "v2 = Vector(1,2,9)\n",
    "print(v2)\n",
    "\n",
    "print(v1+v2)\n",
    "print(type(v1+v2))\n"
   ]
  },
  {
   "cell_type": "code",
   "execution_count": null,
   "id": "90aa76da",
   "metadata": {},
   "outputs": [],
   "source": [
    "#Operator overloading is a programming concept thatallows operators (like +, -, *, /, etc.) to be used with custom-defined \n",
    "# meanings for specific classes or data types in a programming language.\n",
    "# In simpler terms, it means giving new meaning or behavior to an operator when applied to objects of a particular class."
   ]
  }
 ],
 "metadata": {
  "kernelspec": {
   "display_name": "Python 3 (ipykernel)",
   "language": "python",
   "name": "python3"
  },
  "language_info": {
   "codemirror_mode": {
    "name": "ipython",
    "version": 3
   },
   "file_extension": ".py",
   "mimetype": "text/x-python",
   "name": "python",
   "nbconvert_exporter": "python",
   "pygments_lexer": "ipython3",
   "version": "3.11.5"
  }
 },
 "nbformat": 4,
 "nbformat_minor": 5
}
