{
 "cells": [
  {
   "cell_type": "code",
   "execution_count": 5,
   "id": "9454a95d",
   "metadata": {},
   "outputs": [
    {
     "name": "stdout",
     "output_type": "stream",
     "text": [
      "Sleeping for 3 seconds\n",
      "Sleeping for 5 seconds\n",
      "Sleeping for 1 seconds\n",
      "Sleeping for 2 seconds\n",
      "3\n",
      "5\n",
      "1\n",
      "2\n"
     ]
    }
   ],
   "source": [
    "import threading\n",
    "import time\n",
    "from concurrent.futures import ThreadPoolExecutor\n",
    "\n",
    "# Indicates some task being done\n",
    "def func(seconds):\n",
    "  print(f\"Sleeping for {seconds} seconds\")\n",
    "  time.sleep(seconds)\n",
    "  return seconds\n",
    "\n",
    "def main():\n",
    "  time1 = time.perf_counter()\n",
    "  # Normal Code\n",
    "  # func(4) \n",
    "  # func(2)\n",
    "  # func(1)\n",
    "  \n",
    "  \n",
    "  # Same code using Threads\n",
    "  t1 = threading.Thread(target=func, args=[4])\n",
    "  t2 = threading.Thread(target=func, args=[2])\n",
    "  t3 = threading.Thread(target=func, args=[1])\n",
    "  t1.start()\n",
    "  t2.start()\n",
    "  t3.start()\n",
    "  \n",
    "  t1.join()\n",
    "  t2.join()\n",
    "  t3.join()\n",
    "  # Calculating Time \n",
    "  time2 = time.perf_counter()\n",
    "  print(time2 - time1)\n",
    "\n",
    "\n",
    "def poolingDemo():\n",
    "  with ThreadPoolExecutor() as executor:\n",
    "    # future1 = executor.submit(func, 3)\n",
    "    # future2 = executor.submit(func, 2)\n",
    "    # future3 = executor.submit(func, 4)\n",
    "    # print(future1.result())\n",
    "    # print(future2.result())\n",
    "    # print(future3.result())\n",
    "    l = [3, 5, 1, 2]\n",
    "    results = executor.map(func, l)\n",
    "    for result in results:\n",
    "      print(result)\n",
    "\n",
    "\n",
    "poolingDemo()\n"
   ]
  },
  {
   "cell_type": "code",
   "execution_count": null,
   "id": "58409778",
   "metadata": {},
   "outputs": [],
   "source": []
  }
 ],
 "metadata": {
  "kernelspec": {
   "display_name": "Python 3 (ipykernel)",
   "language": "python",
   "name": "python3"
  },
  "language_info": {
   "codemirror_mode": {
    "name": "ipython",
    "version": 3
   },
   "file_extension": ".py",
   "mimetype": "text/x-python",
   "name": "python",
   "nbconvert_exporter": "python",
   "pygments_lexer": "ipython3",
   "version": "3.11.5"
  }
 },
 "nbformat": 4,
 "nbformat_minor": 5
}
