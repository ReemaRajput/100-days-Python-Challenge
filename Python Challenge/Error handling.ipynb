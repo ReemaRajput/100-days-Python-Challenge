{
 "cells": [
  {
   "cell_type": "code",
   "execution_count": 1,
   "id": "bcc96a62",
   "metadata": {},
   "outputs": [],
   "source": [
    "#Try Except"
   ]
  },
  {
   "cell_type": "code",
   "execution_count": 2,
   "id": "6212702d",
   "metadata": {},
   "outputs": [
    {
     "name": "stdout",
     "output_type": "stream",
     "text": [
      "Enter a Number: 5\n",
      "Multiplication table of 5 is :\n",
      "5 x 1 = 5\n",
      "5 x 2 = 10\n",
      "5 x 3 = 15\n",
      "5 x 4 = 20\n",
      "5 x 5 = 25\n",
      "5 x 6 = 30\n",
      "5 x 7 = 35\n",
      "5 x 8 = 40\n",
      "5 x 9 = 45\n",
      "5 x 10 = 50\n"
     ]
    }
   ],
   "source": [
    "a = input(\"Enter a Number: \")\n",
    "print(f\"Multiplication table of {a} is :\")\n",
    "\n",
    "try:\n",
    "    for i in range(1,11):\n",
    "        print(f\"{int(a)} x {i} = {int(a)*i}\")\n",
    "except:\n",
    "    print(\"Invalid Input!\")\n",
    "    \n",
    "    print(\"Some imp line of codes\")\n",
    "    print(\"END\")"
   ]
  },
  {
   "cell_type": "code",
   "execution_count": 3,
   "id": "97346912",
   "metadata": {},
   "outputs": [
    {
     "name": "stdout",
     "output_type": "stream",
     "text": [
      "Enter a Number: reema\n",
      "Multiplication table of reema is :\n",
      "Invalid Input!\n",
      "Some imp line of codes\n",
      "END\n"
     ]
    }
   ],
   "source": [
    "a = input(\"Enter a Number: \")\n",
    "print(f\"Multiplication table of {a} is :\")\n",
    "\n",
    "try:\n",
    "    for i in range(1,11):\n",
    "        print(f\"{int(a)} x {i} = {int(a)*i}\")\n",
    "except:\n",
    "    print(\"Invalid Input!\")\n",
    "    \n",
    "    print(\"Some imp line of codes\")\n",
    "    print(\"END\")"
   ]
  },
  {
   "cell_type": "code",
   "execution_count": 4,
   "id": "96e888d2",
   "metadata": {},
   "outputs": [
    {
     "name": "stdout",
     "output_type": "stream",
     "text": [
      "Enter an integer: 5\n",
      "Index Error detected\n"
     ]
    }
   ],
   "source": [
    "try:\n",
    "    num = int(input(\"Enter an integer: \"))\n",
    "    a = [2, 6]\n",
    "    print(a[num])\n",
    "\n",
    "except ValueError:\n",
    "    print(\"Value Error detected\")\n",
    "    \n",
    "except IndexError:\n",
    "    print(\"Index Error detected\")"
   ]
  },
  {
   "cell_type": "code",
   "execution_count": 12,
   "id": "272a2af0",
   "metadata": {},
   "outputs": [
    {
     "name": "stdout",
     "output_type": "stream",
     "text": [
      "Enter an integer: 3\n",
      "Index Error detected\n"
     ]
    }
   ],
   "source": [
    "try:\n",
    "    num = int(input(\"Enter an integer: \"))\n",
    "    a = [2, 6]\n",
    "    print(a[num])\n",
    "\n",
    "except ValueError:\n",
    "    print(\"Invalid input. Please enter an integer.\")\n",
    "\n",
    "except IndexError:\n",
    "    print(\"Index Error detected\")\n",
    "\n",
    "    "
   ]
  },
  {
   "cell_type": "code",
   "execution_count": 6,
   "id": "ed663851",
   "metadata": {},
   "outputs": [],
   "source": [
    "#Finally Clause"
   ]
  },
  {
   "cell_type": "code",
   "execution_count": 7,
   "id": "b3a2fa57",
   "metadata": {},
   "outputs": [
    {
     "name": "stdout",
     "output_type": "stream",
     "text": [
      "Enter the index: 1\n",
      "Some error occured\n",
      "I am always executed\n",
      "0\n"
     ]
    }
   ],
   "source": [
    "def func():\n",
    "    try:\n",
    "        l=[1,5,8,9]\n",
    "        i=int(input(\"Enter the index: \"))\n",
    "        print(l*[i])\n",
    "        return 1\n",
    "    except:\n",
    "        print(\"Some error occured\")\n",
    "        return 0\n",
    "    finally:\n",
    "        print(\"I am always executed\")\n",
    "        \n",
    "x=func()\n",
    "print(x)"
   ]
  },
  {
   "cell_type": "code",
   "execution_count": 8,
   "id": "70213d02",
   "metadata": {},
   "outputs": [
    {
     "name": "stdout",
     "output_type": "stream",
     "text": [
      "Enter the index: 2\n",
      "8\n",
      "I am always executed\n",
      "1\n"
     ]
    }
   ],
   "source": [
    "def func():\n",
    "    try:\n",
    "        l = [10, 5, 8, 9]\n",
    "        i = int(input(\"Enter the index: \"))\n",
    "        print(l[i])\n",
    "        return 1\n",
    "    except:\n",
    "        print(\"Some Error occured\")\n",
    "        return 0\n",
    "    finally:\n",
    "        print(\"I am always executed\")\n",
    "\n",
    "print(func())\n"
   ]
  },
  {
   "cell_type": "code",
   "execution_count": 9,
   "id": "44fbc594",
   "metadata": {},
   "outputs": [],
   "source": [
    "#Custom Errors"
   ]
  },
  {
   "cell_type": "code",
   "execution_count": 11,
   "id": "aaaecc48",
   "metadata": {},
   "outputs": [
    {
     "name": "stdout",
     "output_type": "stream",
     "text": [
      "Choose any even number between 1 to 10: 2\n",
      "Great! 2 is an even number\n"
     ]
    }
   ],
   "source": [
    "a = int(input(\"Choose any even number between 1 to 10: \"))\n",
    "\n",
    "if a % 2 !=0:\n",
    "    raise ValueError(\"Please clear your even number concepts\")\n",
    "else:\n",
    "    print(\"Great!\", a ,\"is an even number\")\n"
   ]
  },
  {
   "cell_type": "code",
   "execution_count": null,
   "id": "aecec5de",
   "metadata": {},
   "outputs": [],
   "source": []
  },
  {
   "cell_type": "code",
   "execution_count": null,
   "id": "a52f1e5a",
   "metadata": {},
   "outputs": [],
   "source": []
  }
 ],
 "metadata": {
  "kernelspec": {
   "display_name": "Python 3 (ipykernel)",
   "language": "python",
   "name": "python3"
  },
  "language_info": {
   "codemirror_mode": {
    "name": "ipython",
    "version": 3
   },
   "file_extension": ".py",
   "mimetype": "text/x-python",
   "name": "python",
   "nbconvert_exporter": "python",
   "pygments_lexer": "ipython3",
   "version": "3.11.5"
  }
 },
 "nbformat": 4,
 "nbformat_minor": 5
}
