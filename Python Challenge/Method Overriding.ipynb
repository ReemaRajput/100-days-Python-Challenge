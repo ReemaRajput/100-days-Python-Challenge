{
 "cells": [
  {
   "cell_type": "code",
   "execution_count": 8,
   "id": "d936fea9",
   "metadata": {},
   "outputs": [
    {
     "name": "stdout",
     "output_type": "stream",
     "text": [
      "15\n",
      "78.5\n"
     ]
    }
   ],
   "source": [
    "#Normal method\n",
    "\n",
    "class Shape:\n",
    "    def __init__(self,x,y):\n",
    "        self.x = x\n",
    "        self.y = y\n",
    "        \n",
    "    def area(self):\n",
    "        return self.x *self.y\n",
    "    \n",
    "class Circle(Shape):\n",
    "    def __init__(self,radius):\n",
    "        self.radius = radius\n",
    "\n",
    "        \n",
    "    def area(self):\n",
    "        return 3.14 * self.radius *self.radius\n",
    "    \n",
    "rec = Shape(3,5)\n",
    "print(rec.area())\n",
    "\n",
    "c = Circle(5)\n",
    "print(c.area())\n"
   ]
  },
  {
   "cell_type": "code",
   "execution_count": 9,
   "id": "bdf2cba8",
   "metadata": {},
   "outputs": [
    {
     "name": "stdout",
     "output_type": "stream",
     "text": [
      "78.5\n"
     ]
    }
   ],
   "source": [
    "#Method Overriding \n",
    "\n",
    "class Shape:\n",
    "    def __init__(self,x,y):\n",
    "        self.x = x\n",
    "        self.y = y\n",
    "        \n",
    "    def area(self):\n",
    "        return self.x *self.y\n",
    "    \n",
    "class Circle(Shape):\n",
    "    def __init__(self,radius):\n",
    "        self.radius = radius\n",
    "        super().__init__(radius,radius)\n",
    "\n",
    "        \n",
    "    def area(self):\n",
    "        return 3.14 * super().area()\n",
    "    \n",
    "# rec = Shape(3,5)\n",
    "# print(rec.area())\n",
    "\n",
    "c = Circle(5)\n",
    "print(c.area())\n",
    "\n",
    "#This method allows you to redefine a method in a derived class."
   ]
  },
  {
   "cell_type": "code",
   "execution_count": null,
   "id": "5cc19850",
   "metadata": {},
   "outputs": [],
   "source": []
  }
 ],
 "metadata": {
  "kernelspec": {
   "display_name": "Python 3 (ipykernel)",
   "language": "python",
   "name": "python3"
  },
  "language_info": {
   "codemirror_mode": {
    "name": "ipython",
    "version": 3
   },
   "file_extension": ".py",
   "mimetype": "text/x-python",
   "name": "python",
   "nbconvert_exporter": "python",
   "pygments_lexer": "ipython3",
   "version": "3.11.5"
  }
 },
 "nbformat": 4,
 "nbformat_minor": 5
}
