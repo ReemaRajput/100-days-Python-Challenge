{
 "cells": [
  {
   "cell_type": "code",
   "execution_count": 3,
   "id": "6d4d0a1b",
   "metadata": {},
   "outputs": [
    {
     "name": "stdout",
     "output_type": "stream",
     "text": [
      "3628800\n",
      "362880\n",
      "40320\n",
      "5040\n",
      "720\n",
      "120\n",
      "24\n",
      "6\n",
      "2\n",
      "1\n",
      "1\n"
     ]
    }
   ],
   "source": [
    "def factorial(n):\n",
    "    if (n==0 or n==1):\n",
    "        return 1\n",
    "    else:\n",
    "        return n * factorial(n-1)\n",
    "\n",
    "print (factorial(10))\n",
    "print (factorial(9))\n",
    "print (factorial(8))\n",
    "print (factorial(7))\n",
    "print (factorial(6))\n",
    "print (factorial(5))\n",
    "print (factorial(4))\n",
    "print (factorial(3))\n",
    "print (factorial(2))\n",
    "print (factorial(1))\n",
    "print (factorial(0))\n"
   ]
  },
  {
   "cell_type": "code",
   "execution_count": null,
   "id": "84cc861c",
   "metadata": {},
   "outputs": [],
   "source": [
    "#Fibonacci sequence"
   ]
  },
  {
   "cell_type": "code",
   "execution_count": 4,
   "id": "99e6986b",
   "metadata": {},
   "outputs": [],
   "source": [
    "f(0) = 0\n",
    "f(1) = 1\n",
    "f(2) = f(0) + f(1)\n",
    "f(n) = f(n-1) + f(n-2)\n"
   ]
  },
  {
   "cell_type": "code",
   "execution_count": 6,
   "id": "a25fd1f9",
   "metadata": {},
   "outputs": [
    {
     "name": "stdout",
     "output_type": "stream",
     "text": [
      "5\n",
      "3\n",
      "2\n",
      "1\n",
      "1\n"
     ]
    }
   ],
   "source": [
    "def fibonacci(n):\n",
    "    if n==0:\n",
    "        return 0\n",
    "    elif n==1:\n",
    "        return 1\n",
    "    else:\n",
    "        return fibonacci(n-1)+fibonacci(n-2) \n",
    "    \n",
    "print(fibonacci(5))\n",
    "print(fibonacci(4))\n",
    "print(fibonacci(3))\n",
    "print(fibonacci(2))\n",
    "print(fibonacci(1))"
   ]
  },
  {
   "cell_type": "code",
   "execution_count": null,
   "id": "14f47801",
   "metadata": {},
   "outputs": [],
   "source": []
  }
 ],
 "metadata": {
  "kernelspec": {
   "display_name": "Python 3 (ipykernel)",
   "language": "python",
   "name": "python3"
  },
  "language_info": {
   "codemirror_mode": {
    "name": "ipython",
    "version": 3
   },
   "file_extension": ".py",
   "mimetype": "text/x-python",
   "name": "python",
   "nbconvert_exporter": "python",
   "pygments_lexer": "ipython3",
   "version": "3.11.5"
  }
 },
 "nbformat": 4,
 "nbformat_minor": 5
}
