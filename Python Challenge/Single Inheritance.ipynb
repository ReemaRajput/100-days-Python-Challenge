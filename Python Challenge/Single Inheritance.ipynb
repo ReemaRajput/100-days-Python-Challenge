{
 "cells": [
  {
   "cell_type": "code",
   "execution_count": 6,
   "id": "b82bde89",
   "metadata": {},
   "outputs": [
    {
     "name": "stdout",
     "output_type": "stream",
     "text": [
      "Meow, meow!!\n",
      "Bark!\n",
      "Sound made by the animal\n"
     ]
    }
   ],
   "source": [
    "#Single Inheritance\n",
    "\n",
    "class Animal:\n",
    "    def __init__(self, name, species):\n",
    "        self.name = name\n",
    "        self.species = species\n",
    "    \n",
    "    def make_sound(self):\n",
    "        print(\"Sound made by the animal\")\n",
    "        \n",
    "class Dog(Animal):\n",
    "    def __init__(self, name, breed):\n",
    "        Animal.__init__(self, name, species = \"Dog\")\n",
    "        self.breed = breed\n",
    "        \n",
    "    def make_sound(self):\n",
    "        print(\"Bark!\")\n",
    "        \n",
    "class Cat(Animal):\n",
    "    def __init__(self, name, legs):\n",
    "        Animal.__init__(self, name, species = \"Cat\")\n",
    "        self.legs = legs\n",
    "        \n",
    "    def make_sound(self):\n",
    "        print(\"Meow, meow!!\")\n",
    "        \n",
    " \n",
    "c= Cat(\"Cat\", \"Billa\")\n",
    "c.make_sound()\n",
    "\n",
    "d = Dog(\"Dog\",\"Dobermann\")\n",
    "d.make_sound()\n",
    "\n",
    "a = Animal(\"Dog\",\"DOg\")\n",
    "a.make_sound()"
   ]
  },
  {
   "cell_type": "code",
   "execution_count": null,
   "id": "976e5a77",
   "metadata": {},
   "outputs": [],
   "source": [
    "#Single Inheritance is where a class inherits properties and behaviours from a single parent class."
   ]
  }
 ],
 "metadata": {
  "kernelspec": {
   "display_name": "Python 3 (ipykernel)",
   "language": "python",
   "name": "python3"
  },
  "language_info": {
   "codemirror_mode": {
    "name": "ipython",
    "version": 3
   },
   "file_extension": ".py",
   "mimetype": "text/x-python",
   "name": "python",
   "nbconvert_exporter": "python",
   "pygments_lexer": "ipython3",
   "version": "3.11.5"
  }
 },
 "nbformat": 4,
 "nbformat_minor": 5
}
