{
 "cells": [
  {
   "cell_type": "code",
   "execution_count": 5,
   "id": "1137faaf",
   "metadata": {},
   "outputs": [
    {
     "name": "stdout",
     "output_type": "stream",
     "text": [
      "This is the child method.\n",
      "This is the parent method.\n",
      "Reema\n",
      "This is the parent method.\n"
     ]
    }
   ],
   "source": [
    "#Super Keyword\n",
    "\n",
    "class ParentClass:\n",
    "    def parent_method(self):\n",
    "        print(\"This is the parent method.\")\n",
    "        \n",
    "class ChildClass(ParentClass):\n",
    "    def parent_method(self):\n",
    "        print(\"Reema\")\n",
    "        super().parent_method()\n",
    "    def child_method(self):\n",
    "        print(\"This is the child method.\")\n",
    "        super().parent_method()\n",
    "\n",
    "child_object = ChildClass()\n",
    "child_object.child_method()\n",
    "child_object.parent_method()\n",
    "#Super Keyword refers to parent class. Useful when a class inherits from multiple parent classes and you want to call a \n",
    "# method from one of the parent classess. \n",
    "\n",
    "    "
   ]
  },
  {
   "cell_type": "code",
   "execution_count": 6,
   "id": "4e12685e",
   "metadata": {},
   "outputs": [
    {
     "name": "stdout",
     "output_type": "stream",
     "text": [
      "This is the child method.\n",
      "This is the parent method.\n",
      "This is the parent method.\n"
     ]
    }
   ],
   "source": [
    "class ParentClass:\n",
    "    def parent_method(self):\n",
    "        print(\"This is the parent method.\")\n",
    "        \n",
    "class ChildClass(ParentClass):\n",
    "#     def parent_method(self):\n",
    "#         print(\"Reema\")\n",
    "#         super().parent_method()\n",
    "    def child_method(self):\n",
    "        print(\"This is the child method.\")\n",
    "        super().parent_method()\n",
    "\n",
    "child_object = ChildClass()\n",
    "child_object.child_method()\n",
    "child_object.parent_method()"
   ]
  },
  {
   "cell_type": "code",
   "execution_count": 14,
   "id": "4d2c26d8",
   "metadata": {},
   "outputs": [
    {
     "name": "stdout",
     "output_type": "stream",
     "text": [
      "Harry\n",
      "2345\n",
      "Python\n"
     ]
    }
   ],
   "source": [
    "class Employee:\n",
    "    def __init__(self, name, id):\n",
    "        self.name = name\n",
    "        self.id = id\n",
    "        \n",
    "class Programmer(Employee):\n",
    "    def __init__(self, name, id, lang):\n",
    "        self.name = name\n",
    "        super().__init__(name,id)\n",
    "        self.lang = lang\n",
    "        \n",
    "rohan = Employee(\"Rohan Das\", 420)\n",
    "harry = Programmer(\"Harry\", 2345, \"Python\")\n",
    "print(harry.name)\n",
    "print(harry.id)\n",
    "print(harry.lang)"
   ]
  },
  {
   "cell_type": "code",
   "execution_count": null,
   "id": "23c6003b",
   "metadata": {},
   "outputs": [],
   "source": []
  }
 ],
 "metadata": {
  "kernelspec": {
   "display_name": "Python 3 (ipykernel)",
   "language": "python",
   "name": "python3"
  },
  "language_info": {
   "codemirror_mode": {
    "name": "ipython",
    "version": 3
   },
   "file_extension": ".py",
   "mimetype": "text/x-python",
   "name": "python",
   "nbconvert_exporter": "python",
   "pygments_lexer": "ipython3",
   "version": "3.11.5"
  }
 },
 "nbformat": 4,
 "nbformat_minor": 5
}
