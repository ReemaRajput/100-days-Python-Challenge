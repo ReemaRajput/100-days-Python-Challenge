{
 "cells": [
  {
   "cell_type": "code",
   "execution_count": 13,
   "id": "2e80dba1",
   "metadata": {},
   "outputs": [
    {
     "name": "stdout",
     "output_type": "stream",
     "text": [
      "Neha is a secret Agent\n",
      "Rohan is a CA\n",
      "Reema is a Data analyst\n"
     ]
    }
   ],
   "source": [
    "#normal \n",
    "class Person:\n",
    "    \n",
    "    name = \"Reema\"\n",
    "    occupation = \"Data analyst\"\n",
    "    age = 50\n",
    "    \n",
    "    def info (self):  \n",
    "        print(f\"{self.name} is a {self.occupation}\")\n",
    "\n",
    "a = Person()\n",
    "b = Person()\n",
    "c = Person()\n",
    "\n",
    "a.name = \"Neha\"\n",
    "a.occupation = \"secret Agent\"\n",
    "\n",
    "b.name = \"Rohan\"\n",
    "b.occupation = \"CA\"\n",
    "\n",
    "a.info()\n",
    "b.info()\n",
    "c.info()"
   ]
  },
  {
   "cell_type": "code",
   "execution_count": 10,
   "id": "2f988c4e",
   "metadata": {},
   "outputs": [
    {
     "name": "stdout",
     "output_type": "stream",
     "text": [
      "Hey I am a person\n",
      "Hey I am a person\n",
      "\n",
      "\n"
     ]
    }
   ],
   "source": [
    "# Default Constructor\n",
    "class Person:\n",
    "    \n",
    "    def __init__(self):\n",
    "        print(\"Hey I am a person\")\n",
    "           \n",
    "    def info (self):  \n",
    "        print()\n",
    "\n",
    "a = Person()\n",
    "b = Person()\n",
    "\n",
    "a.info()\n",
    "b.info()"
   ]
  },
  {
   "cell_type": "code",
   "execution_count": 4,
   "id": "de0687b1",
   "metadata": {},
   "outputs": [
    {
     "name": "stdout",
     "output_type": "stream",
     "text": [
      "Hey I am a person\n",
      "Hey I am a person\n",
      "Neha is a secret Agent\n",
      "Rohan is a CA\n"
     ]
    }
   ],
   "source": [
    "# Parameterized constructor\n",
    "class Person:\n",
    "    \n",
    "    def __init__(self, n, o):\n",
    "        print(\"Hey I am a person\")\n",
    "        self.name = n\n",
    "        self.occ = o\n",
    "           \n",
    "    def info (self):  \n",
    "        print(f\"{self.name} is a {self.occ}\")\n",
    "\n",
    "a = Person(\"Neha\",\"secret Agent\")\n",
    "b = Person(\"Rohan\", \"CA\")\n",
    "\n",
    "a.info()\n",
    "b.info()\n"
   ]
  },
  {
   "cell_type": "code",
   "execution_count": null,
   "id": "87ca45a3",
   "metadata": {},
   "outputs": [],
   "source": [
    "#class is the blueprint for creating objects."
   ]
  }
 ],
 "metadata": {
  "kernelspec": {
   "display_name": "Python 3 (ipykernel)",
   "language": "python",
   "name": "python3"
  },
  "language_info": {
   "codemirror_mode": {
    "name": "ipython",
    "version": 3
   },
   "file_extension": ".py",
   "mimetype": "text/x-python",
   "name": "python",
   "nbconvert_exporter": "python",
   "pygments_lexer": "ipython3",
   "version": "3.11.5"
  }
 },
 "nbformat": 4,
 "nbformat_minor": 5
}
