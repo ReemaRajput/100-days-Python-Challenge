{
 "cells": [
  {
   "cell_type": "code",
   "execution_count": null,
   "id": "bf1f6b82",
   "metadata": {},
   "outputs": [],
   "source": [
    "#Lambda function"
   ]
  },
  {
   "cell_type": "code",
   "execution_count": 9,
   "id": "114c4e2d",
   "metadata": {},
   "outputs": [
    {
     "name": "stdout",
     "output_type": "stream",
     "text": [
      "10\n"
     ]
    }
   ],
   "source": [
    "# function \n",
    "def double(x):\n",
    "    return x*2\n",
    "\n",
    "print(double(5)) "
   ]
  },
  {
   "cell_type": "code",
   "execution_count": 2,
   "id": "6f1601e0",
   "metadata": {},
   "outputs": [
    {
     "name": "stdout",
     "output_type": "stream",
     "text": [
      "4\n",
      "1000\n",
      "5.0\n"
     ]
    }
   ],
   "source": [
    "#Lambda function\n",
    "double = lambda x: x*2 \n",
    "cube = lambda x: x*x*x\n",
    "avg = lambda x, y,z: (x+y+z)/3\n",
    "\n",
    "\n",
    "print(double(2)) \n",
    "print(cube(10))\n",
    "print(avg(2,5,8))\n"
   ]
  },
  {
   "cell_type": "code",
   "execution_count": 5,
   "id": "b69ef486",
   "metadata": {
    "scrolled": true
   },
   "outputs": [
    {
     "name": "stdout",
     "output_type": "stream",
     "text": [
      "18\n"
     ]
    }
   ],
   "source": [
    "def appl(fx,value):\n",
    "    return 10 + fx(value)\n",
    "\n",
    "print(appl(lambda x: x*x*x,2))"
   ]
  },
  {
   "cell_type": "code",
   "execution_count": null,
   "id": "17128484",
   "metadata": {},
   "outputs": [],
   "source": []
  }
 ],
 "metadata": {
  "kernelspec": {
   "display_name": "Python 3 (ipykernel)",
   "language": "python",
   "name": "python3"
  },
  "language_info": {
   "codemirror_mode": {
    "name": "ipython",
    "version": 3
   },
   "file_extension": ".py",
   "mimetype": "text/x-python",
   "name": "python",
   "nbconvert_exporter": "python",
   "pygments_lexer": "ipython3",
   "version": "3.11.5"
  }
 },
 "nbformat": 4,
 "nbformat_minor": 5
}
