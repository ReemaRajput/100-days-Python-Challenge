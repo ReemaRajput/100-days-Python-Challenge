{
 "cells": [
  {
   "cell_type": "code",
   "execution_count": 1,
   "id": "5814e75e",
   "metadata": {},
   "outputs": [],
   "source": [
    "#set"
   ]
  },
  {
   "cell_type": "code",
   "execution_count": 2,
   "id": "5803f986",
   "metadata": {},
   "outputs": [
    {
     "name": "stdout",
     "output_type": "stream",
     "text": [
      "{1, 2, 4, 5, 6, 7, 8, 9}\n"
     ]
    }
   ],
   "source": [
    "s = {2,8,8,4,5,9,6,7,7,9,1}\n",
    "print(s)"
   ]
  },
  {
   "cell_type": "code",
   "execution_count": 3,
   "id": "a1dc1cf4",
   "metadata": {},
   "outputs": [
    {
     "name": "stdout",
     "output_type": "stream",
     "text": [
      "<class 'set'>\n"
     ]
    }
   ],
   "source": [
    "print(type(s))"
   ]
  },
  {
   "cell_type": "code",
   "execution_count": 4,
   "id": "f637c9ac",
   "metadata": {},
   "outputs": [
    {
     "name": "stdout",
     "output_type": "stream",
     "text": [
      "<class 'dict'>\n"
     ]
    }
   ],
   "source": [
    "s={}\n",
    "print(type(s))"
   ]
  },
  {
   "cell_type": "code",
   "execution_count": 5,
   "id": "a9522eb0",
   "metadata": {},
   "outputs": [
    {
     "name": "stdout",
     "output_type": "stream",
     "text": [
      "<class 'set'>\n"
     ]
    }
   ],
   "source": [
    "s=set()\n",
    "print(type(s))"
   ]
  },
  {
   "cell_type": "code",
   "execution_count": 6,
   "id": "7f1ce9f2",
   "metadata": {},
   "outputs": [
    {
     "name": "stdout",
     "output_type": "stream",
     "text": [
      "{1, 2, 4, 5, 6, 7, 8, 9}\n",
      "1\n",
      "2\n",
      "4\n",
      "5\n",
      "6\n",
      "7\n",
      "8\n",
      "9\n"
     ]
    }
   ],
   "source": [
    "s = {2,8,8,4,5,9,6,7,7,9,1}\n",
    "print(s)\n",
    "\n",
    "for x in s:\n",
    "    print(x)"
   ]
  },
  {
   "cell_type": "code",
   "execution_count": 7,
   "id": "3fe6f297",
   "metadata": {},
   "outputs": [],
   "source": [
    "#set methods"
   ]
  },
  {
   "cell_type": "code",
   "execution_count": 24,
   "id": "ef755751",
   "metadata": {},
   "outputs": [
    {
     "name": "stdout",
     "output_type": "stream",
     "text": [
      "{'Ahmedabad', 'Tokyo', 'Mumbai', 'Delhi'} {'Ahmedabad', 'Bangalore', 'Tokyo', 'Hyderabad'}\n"
     ]
    }
   ],
   "source": [
    "cities1 = {\"Delhi\", \"Mumbai\", \"Ahmedabad\", \"Tokyo\"}\n",
    "cities2 = {\"Bangalore\", \"Ahmedabad\", \"Hyderabad\",\"Tokyo\"}\n",
    "\n",
    "print(cities1,cities2)"
   ]
  },
  {
   "cell_type": "code",
   "execution_count": 25,
   "id": "e388d9b2",
   "metadata": {},
   "outputs": [
    {
     "data": {
      "text/plain": [
       "{'Ahmedabad', 'Bangalore', 'Delhi', 'Hyderabad', 'Mumbai', 'Tokyo'}"
      ]
     },
     "execution_count": 25,
     "metadata": {},
     "output_type": "execute_result"
    }
   ],
   "source": [
    "cities1 = {\"Delhi\", \"Mumbai\", \"Ahmedabad\", \"Tokyo\"}\n",
    "cities2 = {\"Bangalore\", \"Ahmedabad\", \"Hyderabad\",\"Tokyo\"}\n",
    "cities1.union(cities2)"
   ]
  },
  {
   "cell_type": "code",
   "execution_count": 26,
   "id": "eb15fc35",
   "metadata": {},
   "outputs": [
    {
     "data": {
      "text/plain": [
       "{'Ahmedabad', 'Tokyo'}"
      ]
     },
     "execution_count": 26,
     "metadata": {},
     "output_type": "execute_result"
    }
   ],
   "source": [
    "cities1.intersection(cities2)"
   ]
  },
  {
   "cell_type": "code",
   "execution_count": 27,
   "id": "ccd9794f",
   "metadata": {},
   "outputs": [
    {
     "data": {
      "text/plain": [
       "{'Delhi', 'Mumbai'}"
      ]
     },
     "execution_count": 27,
     "metadata": {},
     "output_type": "execute_result"
    }
   ],
   "source": [
    "cities1.difference(cities2)"
   ]
  },
  {
   "cell_type": "code",
   "execution_count": 28,
   "id": "d3ed07ef",
   "metadata": {},
   "outputs": [
    {
     "data": {
      "text/plain": [
       "False"
      ]
     },
     "execution_count": 28,
     "metadata": {},
     "output_type": "execute_result"
    }
   ],
   "source": [
    "\n",
    "cities1.isdisjoint(cities2)"
   ]
  },
  {
   "cell_type": "code",
   "execution_count": 30,
   "id": "e67b6a34",
   "metadata": {},
   "outputs": [
    {
     "data": {
      "text/plain": [
       "True"
      ]
     },
     "execution_count": 30,
     "metadata": {},
     "output_type": "execute_result"
    }
   ],
   "source": [
    "cities1 = {\"Delhi\", \"Mumbai\", \"Ahmedabad\", \"Tokyo\"}\n",
    "cities2 = { \"Ahmedabad\",\"Tokyo\"}\n",
    "cities1.issuperset(cities2)"
   ]
  },
  {
   "cell_type": "code",
   "execution_count": 32,
   "id": "fa9ca741",
   "metadata": {},
   "outputs": [
    {
     "data": {
      "text/plain": [
       "True"
      ]
     },
     "execution_count": 32,
     "metadata": {},
     "output_type": "execute_result"
    }
   ],
   "source": [
    "cities2.issubset(cities1)"
   ]
  },
  {
   "cell_type": "code",
   "execution_count": 34,
   "id": "b9d90f36",
   "metadata": {},
   "outputs": [
    {
     "name": "stdout",
     "output_type": "stream",
     "text": [
      "{'Delhi', 'Mumbai', 'Chittrakot', 'Ahmedabad', 'Tokyo'}\n"
     ]
    }
   ],
   "source": [
    "cities1 = {\"Delhi\", \"Mumbai\", \"Ahmedabad\", \"Tokyo\"}\n",
    "cities1.add(\"Chittrakot\")\n",
    "print(cities1)"
   ]
  },
  {
   "cell_type": "code",
   "execution_count": 37,
   "id": "8d30e75e",
   "metadata": {},
   "outputs": [
    {
     "name": "stdout",
     "output_type": "stream",
     "text": [
      "{'Ahmedabad', 'Tokyo', 'Delhi'}\n"
     ]
    }
   ],
   "source": [
    "cities1 = {\"Delhi\", \"Mumbai\", \"Ahmedabad\", \"Tokyo\"}\n",
    "cities1.remove(\"Mumbai\")\n",
    "print(cities1)"
   ]
  },
  {
   "cell_type": "code",
   "execution_count": 41,
   "id": "3ab156bd",
   "metadata": {},
   "outputs": [
    {
     "name": "stdout",
     "output_type": "stream",
     "text": [
      "{'Tokyo', 'Mumbai', 'Delhi'}\n"
     ]
    }
   ],
   "source": [
    "cities1 = {\"Delhi\", \"Mumbai\", \"Ahmedabad\", \"Tokyo\"}\n",
    "cities1.pop()\n",
    "print(cities1)"
   ]
  },
  {
   "cell_type": "code",
   "execution_count": 42,
   "id": "9ff9d68a",
   "metadata": {},
   "outputs": [
    {
     "name": "stdout",
     "output_type": "stream",
     "text": [
      "set()\n"
     ]
    }
   ],
   "source": [
    "cities1 = {\"Delhi\", \"Mumbai\", \"Ahmedabad\", \"Tokyo\"}\n",
    "cities1.clear()\n",
    "print(cities1)"
   ]
  },
  {
   "cell_type": "code",
   "execution_count": null,
   "id": "d80721f4",
   "metadata": {},
   "outputs": [],
   "source": []
  }
 ],
 "metadata": {
  "kernelspec": {
   "display_name": "Python 3 (ipykernel)",
   "language": "python",
   "name": "python3"
  },
  "language_info": {
   "codemirror_mode": {
    "name": "ipython",
    "version": 3
   },
   "file_extension": ".py",
   "mimetype": "text/x-python",
   "name": "python",
   "nbconvert_exporter": "python",
   "pygments_lexer": "ipython3",
   "version": "3.11.5"
  }
 },
 "nbformat": 4,
 "nbformat_minor": 5
}
