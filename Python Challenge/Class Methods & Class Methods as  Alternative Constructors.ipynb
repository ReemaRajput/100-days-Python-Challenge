{
 "cells": [
  {
   "cell_type": "code",
   "execution_count": 3,
   "id": "adc812c1",
   "metadata": {},
   "outputs": [
    {
     "name": "stdout",
     "output_type": "stream",
     "text": [
      "The name is Reema and company is Google\n",
      "The name is Reema and company is Tesla\n",
      "Tesla\n"
     ]
    }
   ],
   "source": [
    "#class methods\n",
    "\n",
    "class Employee:\n",
    "    company = \"Google\"\n",
    "    def show(self):\n",
    "        print(f\"The name is {self.name} and company is {self.company}\")\n",
    "              \n",
    "    @classmethod\n",
    "    def changeCompany(cls, newCompany): #normally self required but in class method class is required.\n",
    "        cls.company = newCompany\n",
    "              \n",
    "e1 = Employee()\n",
    "e1.name = \"Reema\"\n",
    "e1.show()\n",
    "e1.changeCompany(\"Tesla\")\n",
    "e1.show()\n",
    "print(Employee.company)"
   ]
  },
  {
   "cell_type": "code",
   "execution_count": 16,
   "id": "b7a31d64",
   "metadata": {},
   "outputs": [
    {
     "name": "stdout",
     "output_type": "stream",
     "text": [
      "Reema\n",
      "50000\n",
      "Vikas\n",
      "100000\n"
     ]
    }
   ],
   "source": [
    "#Class methods as alternative constructors\n",
    "\n",
    "class Employee:\n",
    "    def __init__(self, name, salary):\n",
    "        self.name = name\n",
    "        self.salary = salary\n",
    "        \n",
    "    @classmethod\n",
    "    def fromStr(cls, string):\n",
    "        return cls(string.split(\"-\")[0], int(string.split(\"-\")[1]))\n",
    "\n",
    "e = Employee(\"Reema\",50000)\n",
    "print(e.name)\n",
    "print(e.salary)\n",
    "\n",
    "string = \"Vikas-100000\"\n",
    "e = Employee.fromStr(string)\n",
    "print(e.name)\n",
    "print(e.salary)\n"
   ]
  },
  {
   "cell_type": "code",
   "execution_count": null,
   "id": "2d2cdc8b",
   "metadata": {},
   "outputs": [],
   "source": [
    "#Class is way to create custom data types.\n",
    "#Class Methods are bound to the class and not the instance of the class and change the class directly.\n"
   ]
  }
 ],
 "metadata": {
  "kernelspec": {
   "display_name": "Python 3 (ipykernel)",
   "language": "python",
   "name": "python3"
  },
  "language_info": {
   "codemirror_mode": {
    "name": "ipython",
    "version": 3
   },
   "file_extension": ".py",
   "mimetype": "text/x-python",
   "name": "python",
   "nbconvert_exporter": "python",
   "pygments_lexer": "ipython3",
   "version": "3.11.5"
  }
 },
 "nbformat": 4,
 "nbformat_minor": 5
}
