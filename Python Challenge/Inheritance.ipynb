{
 "cells": [
  {
   "cell_type": "code",
   "execution_count": 3,
   "id": "fd12845a",
   "metadata": {},
   "outputs": [
    {
     "name": "stdout",
     "output_type": "stream",
     "text": [
      "The name of Employee: 360 is Mohit Rajput\n",
      "The name of Employee: 420 is Rohit Rajput\n"
     ]
    }
   ],
   "source": [
    "#Normal use of Class\n",
    "\n",
    "class Employee:\n",
    "    def __init__(self,name,id):\n",
    "        self.name = name\n",
    "        self.id = id\n",
    "        \n",
    "    def showDetails(self):\n",
    "        print(f\"The name of Employee: {self.id} is {self.name}\")\n",
    "              \n",
    "e1= Employee(\"Mohit Rajput\", 360)\n",
    "e1.showDetails()\n",
    "              \n",
    "e2= Employee(\"Rohit Rajput\", 420)\n",
    "e2.showDetails()"
   ]
  },
  {
   "cell_type": "code",
   "execution_count": 10,
   "id": "7ee7272b",
   "metadata": {},
   "outputs": [
    {
     "name": "stdout",
     "output_type": "stream",
     "text": [
      "The name of Employee: 360 is Mohit Rajput\n",
      "The name of Employee: 420 is Rohit Rajput\n",
      "The default language is Python\n"
     ]
    }
   ],
   "source": [
    "# Use of Inheritance in the above Class\n",
    "\n",
    "class Employee:\n",
    "    def __init__(self,name,id):\n",
    "        self.name = name\n",
    "        self.id = id\n",
    "        \n",
    "    def showDetails(self):\n",
    "        print(f\"The name of Employee: {self.id} is {self.name}\")\n",
    "        \n",
    "class Programmer(Employee):\n",
    "    def showLanguage(self):\n",
    "        print(\"The default language is Python\")\n",
    "              \n",
    "e1= Employee(\"Mohit Rajput\", 360)\n",
    "e1.showDetails()\n",
    "              \n",
    "e2= Reema(\"Rohit Rajput\", 420)\n",
    "e2.showDetails()\n",
    "e2.showLanguage()\n"
   ]
  },
  {
   "cell_type": "code",
   "execution_count": null,
   "id": "35c0583b",
   "metadata": {},
   "outputs": [],
   "source": []
  }
 ],
 "metadata": {
  "kernelspec": {
   "display_name": "Python 3 (ipykernel)",
   "language": "python",
   "name": "python3"
  },
  "language_info": {
   "codemirror_mode": {
    "name": "ipython",
    "version": 3
   },
   "file_extension": ".py",
   "mimetype": "text/x-python",
   "name": "python",
   "nbconvert_exporter": "python",
   "pygments_lexer": "ipython3",
   "version": "3.11.5"
  }
 },
 "nbformat": 4,
 "nbformat_minor": 5
}
