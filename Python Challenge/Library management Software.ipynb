{
 "cells": [
  {
   "cell_type": "code",
   "execution_count": 6,
   "id": "9a194948",
   "metadata": {},
   "outputs": [
    {
     "name": "stdout",
     "output_type": "stream",
     "text": [
      "The library has 5 books. The books are\n",
      "HarryPotter\n",
      "Avatar\n",
      "Divergent\n",
      "Princess Diary\n",
      "Charlie and the Chocolate factory\n"
     ]
    }
   ],
   "source": [
    "class Library:\n",
    "    def __init__(self):\n",
    "        self.noBooks = 0\n",
    "        self.books = []\n",
    "    \n",
    "    def addBook(self,book):\n",
    "        self.books.append(book)\n",
    "        self.noBooks = len(self.books)\n",
    "        \n",
    "    def showInfo(self):\n",
    "        print(f\"The library has {self.noBooks} books. The books are\")\n",
    "        for book in self.books:\n",
    "            print(book)\n",
    "l1 = Library()\n",
    "l1.addBook(\"HarryPotter\")\n",
    "l1.addBook(\"Avatar\")\n",
    "l1.addBook(\"Divergent\")\n",
    "l1.addBook(\"Princess Diary\")\n",
    "l1.addBook(\"Charlie and the Chocolate factory\")\n",
    "l1.showInfo()"
   ]
  },
  {
   "cell_type": "code",
   "execution_count": null,
   "id": "6dae32e6",
   "metadata": {},
   "outputs": [],
   "source": []
  }
 ],
 "metadata": {
  "kernelspec": {
   "display_name": "Python 3 (ipykernel)",
   "language": "python",
   "name": "python3"
  },
  "language_info": {
   "codemirror_mode": {
    "name": "ipython",
    "version": 3
   },
   "file_extension": ".py",
   "mimetype": "text/x-python",
   "name": "python",
   "nbconvert_exporter": "python",
   "pygments_lexer": "ipython3",
   "version": "3.11.5"
  }
 },
 "nbformat": 4,
 "nbformat_minor": 5
}
