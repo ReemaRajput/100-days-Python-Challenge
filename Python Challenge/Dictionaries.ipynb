{
 "cells": [
  {
   "cell_type": "code",
   "execution_count": null,
   "id": "70e1f04b",
   "metadata": {},
   "outputs": [],
   "source": [
    "#Dictionaries"
   ]
  },
  {
   "cell_type": "code",
   "execution_count": 13,
   "id": "8630ee82",
   "metadata": {
    "scrolled": true
   },
   "outputs": [
    {
     "name": "stdout",
     "output_type": "stream",
     "text": [
      "{'Name': 'Reema', 'Age': 29, 'Gender': 'Female'}\n",
      "29\n",
      "Female\n",
      "dict_keys(['Name', 'Age', 'Gender'])\n",
      "dict_values(['Reema', 29, 'Female'])\n"
     ]
    }
   ],
   "source": [
    "dict={\n",
    "    \"Name\":\"Reema\",\n",
    "    \"Age\": 29,\n",
    "    \"Gender\":\"Female\"\n",
    "}\n",
    "\n",
    "print(dict)\n",
    "print(dict[\"Age\"])\n",
    "print(dict.get(\"Gender\"))\n",
    "print(dict.keys())\n",
    "print(dict.values())"
   ]
  },
  {
   "cell_type": "code",
   "execution_count": 24,
   "id": "39bd13be",
   "metadata": {},
   "outputs": [
    {
     "name": "stdout",
     "output_type": "stream",
     "text": [
      "Reema\n",
      "29\n",
      "Female\n"
     ]
    }
   ],
   "source": [
    "for values in dict.values():\n",
    "    print(values)\n"
   ]
  },
  {
   "cell_type": "code",
   "execution_count": 32,
   "id": "695515bf",
   "metadata": {},
   "outputs": [
    {
     "name": "stdout",
     "output_type": "stream",
     "text": [
      "The values corresponding to the Name is Reema\n",
      "The values corresponding to the Age is 29\n",
      "The values corresponding to the Gender is Female\n"
     ]
    }
   ],
   "source": [
    "for key,value in dict.items():\n",
    "    print(f\"The values corresponding to the {key} is {value}\")"
   ]
  },
  {
   "cell_type": "code",
   "execution_count": 19,
   "id": "caf53c37",
   "metadata": {},
   "outputs": [
    {
     "name": "stdout",
     "output_type": "stream",
     "text": [
      "dict_items([('Name', 'Reema'), ('Age', 29), ('Gender', 'Female')])\n"
     ]
    }
   ],
   "source": [
    "print(dict.items())"
   ]
  },
  {
   "cell_type": "code",
   "execution_count": null,
   "id": "95cc5189",
   "metadata": {},
   "outputs": [],
   "source": [
    "#Dictionary Method"
   ]
  },
  {
   "cell_type": "code",
   "execution_count": 52,
   "id": "e4f2c704",
   "metadata": {},
   "outputs": [
    {
     "name": "stdout",
     "output_type": "stream",
     "text": [
      "{1: 100, 5: 80, 3: 20, 6: 90, 15: 40, 20: 10}\n",
      "{6: 90, 20: 10}\n",
      "{1: 100, 5: 80, 3: 20, 6: 90, 15: 40}\n",
      "{1: 100, 3: 20, 6: 90, 15: 40}\n"
     ]
    }
   ],
   "source": [
    "Class_A = {1:100, 5:80, 3:20}\n",
    "Class_B = {6:90, 15:40, 20:10}\n",
    "\n",
    "Class_A.update(Class_B)\n",
    "print(Class_A)\n",
    "\n",
    "Class_B.pop(15)\n",
    "print(Class_B)\n",
    "\n",
    "Class_A.popitem()\n",
    "print(Class_A)\n",
    "\n",
    "# Class_A.clear()\n",
    "# print(Class_A)\n",
    "\n",
    "del Class_A[5]\n",
    "print(Class_A)"
   ]
  },
  {
   "cell_type": "code",
   "execution_count": 44,
   "id": "d5b7f3b5",
   "metadata": {},
   "outputs": [],
   "source": []
  }
 ],
 "metadata": {
  "kernelspec": {
   "display_name": "Python 3 (ipykernel)",
   "language": "python",
   "name": "python3"
  },
  "language_info": {
   "codemirror_mode": {
    "name": "ipython",
    "version": 3
   },
   "file_extension": ".py",
   "mimetype": "text/x-python",
   "name": "python",
   "nbconvert_exporter": "python",
   "pygments_lexer": "ipython3",
   "version": "3.11.5"
  }
 },
 "nbformat": 4,
 "nbformat_minor": 5
}
