{
 "cells": [
  {
   "cell_type": "code",
   "execution_count": 14,
   "id": "4198456f",
   "metadata": {},
   "outputs": [
    {
     "name": "stdout",
     "output_type": "stream",
     "text": [
      "5\n",
      "10\n",
      "15\n"
     ]
    }
   ],
   "source": [
    "class Math:\n",
    "    def __init__(self,num):\n",
    "        self.num = num \n",
    "    \n",
    "    def addtonum(self, n):\n",
    "        self.num = self.num + n\n",
    "    \n",
    "    @staticmethod\n",
    "    def add(a,b):\n",
    "        return a+b\n",
    "        \n",
    "a = Math(5)\n",
    "print(a.num)\n",
    "a.addtonum(5)\n",
    "print(a.num)\n",
    "\n",
    "print(Math.add(10, 5))\n"
   ]
  },
  {
   "cell_type": "code",
   "execution_count": null,
   "id": "32c226b8",
   "metadata": {},
   "outputs": [],
   "source": [
    "#Static Method used when class or instance is not used"
   ]
  }
 ],
 "metadata": {
  "kernelspec": {
   "display_name": "Python 3 (ipykernel)",
   "language": "python",
   "name": "python3"
  },
  "language_info": {
   "codemirror_mode": {
    "name": "ipython",
    "version": 3
   },
   "file_extension": ".py",
   "mimetype": "text/x-python",
   "name": "python",
   "nbconvert_exporter": "python",
   "pygments_lexer": "ipython3",
   "version": "3.11.5"
  }
 },
 "nbformat": 4,
 "nbformat_minor": 5
}
