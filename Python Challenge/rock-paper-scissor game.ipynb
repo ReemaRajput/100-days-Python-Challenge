{
 "cells": [
  {
   "cell_type": "code",
   "execution_count": null,
   "id": "49cc600a",
   "metadata": {},
   "outputs": [
    {
     "name": "stdout",
     "output_type": "stream",
     "text": [
      "Let's play Rock, Paper, Scissors!\n",
      "Enter Rock, Paper, or Scissors: rock\n",
      "\n",
      "You chose rock.\n",
      "Computer chose scissors.\n",
      "\n",
      "You win!\n",
      "\n",
      "Do you want to play again? (yes/no): yes\n",
      "Enter Rock, Paper, or Scissors: paper\n",
      "\n",
      "You chose paper.\n",
      "Computer chose paper.\n",
      "\n",
      "It's a tie!\n",
      "\n",
      "Do you want to play again? (yes/no): yes\n",
      "Enter Rock, Paper, or Scissors: rock\n",
      "\n",
      "You chose rock.\n",
      "Computer chose paper.\n",
      "\n",
      "Computer wins!\n",
      "\n",
      "Do you want to play again? (yes/no): yes\n",
      "Enter Rock, Paper, or Scissors: scissor\n",
      "Invalid choice. Please enter Rock, Paper, or Scissors.\n",
      "Enter Rock, Paper, or Scissors: scissors\n",
      "\n",
      "You chose scissors.\n",
      "Computer chose scissors.\n",
      "\n",
      "It's a tie!\n"
     ]
    }
   ],
   "source": [
    "import random\n",
    "\n",
    "def get_user_choice():\n",
    "    while True:\n",
    "        user_choice = input(\"Enter Rock, Paper, or Scissors: \").lower()\n",
    "        if user_choice in ['rock', 'paper', 'scissors']:\n",
    "            return user_choice\n",
    "        else:\n",
    "            print(\"Invalid choice. Please enter Rock, Paper, or Scissors.\")\n",
    "\n",
    "def get_computer_choice():\n",
    "    return random.choice(['rock', 'paper', 'scissors'])\n",
    "\n",
    "def determine_winner(user_choice, computer_choice):\n",
    "    if user_choice == computer_choice:\n",
    "        return \"It's a tie!\"\n",
    "    elif (user_choice == 'rock' and computer_choice == 'scissors') or \\\n",
    "         (user_choice == 'paper' and computer_choice == 'rock') or \\\n",
    "         (user_choice == 'scissors' and computer_choice == 'paper'):\n",
    "        return \"You win!\"\n",
    "    else:\n",
    "        return \"Computer wins!\"\n",
    "\n",
    "def play_game():\n",
    "    print(\"Let's play Rock, Paper, Scissors!\")\n",
    "    while True:\n",
    "        user_choice = get_user_choice()\n",
    "        computer_choice = get_computer_choice()\n",
    "\n",
    "        print(f\"\\nYou chose {user_choice}.\")\n",
    "        print(f\"Computer chose {computer_choice}.\\n\")\n",
    "\n",
    "        result = determine_winner(user_choice, computer_choice)\n",
    "        print(result)\n",
    "\n",
    "        play_again = input(\"\\nDo you want to play again? (yes/no): \").lower()\n",
    "        if play_again != 'yes':\n",
    "            break\n",
    "\n",
    "    print(\"\\nThanks for playing!\")\n",
    "\n",
    "# Start the game\n",
    "play_game()\n"
   ]
  },
  {
   "cell_type": "code",
   "execution_count": null,
   "id": "4ac482a6",
   "metadata": {},
   "outputs": [],
   "source": []
  }
 ],
 "metadata": {
  "kernelspec": {
   "display_name": "Python 3 (ipykernel)",
   "language": "python",
   "name": "python3"
  },
  "language_info": {
   "codemirror_mode": {
    "name": "ipython",
    "version": 3
   },
   "file_extension": ".py",
   "mimetype": "text/x-python",
   "name": "python",
   "nbconvert_exporter": "python",
   "pygments_lexer": "ipython3",
   "version": "3.11.5"
  }
 },
 "nbformat": 4,
 "nbformat_minor": 5
}
