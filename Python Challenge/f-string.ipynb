{
 "cells": [
  {
   "cell_type": "code",
   "execution_count": 3,
   "id": "e856120d",
   "metadata": {},
   "outputs": [
    {
     "data": {
      "text/plain": [
       "'Hey my name is Reema and I am from India'"
      ]
     },
     "execution_count": 3,
     "metadata": {},
     "output_type": "execute_result"
    }
   ],
   "source": [
    "#normal method\n",
    "letter = \"Hey my name is {0} and I am from {1}\"\n",
    "name = \"Reema\"\n",
    "country = \"India\"\n",
    "letter.format(name, country)\n"
   ]
  },
  {
   "cell_type": "code",
   "execution_count": 13,
   "id": "3f0f6d30",
   "metadata": {},
   "outputs": [
    {
     "name": "stdout",
     "output_type": "stream",
     "text": [
      "Hey my name is Reema and I am from India\n",
      "Hey my name is {name} and I am from {country}\n"
     ]
    }
   ],
   "source": [
    "#f string\n",
    "name = \"Reema\"\n",
    "country = \"India\"\n",
    "print(f\"Hey my name is {name} and I am from {country}\")\n",
    "print(f\"Hey my name is {{name}} and I am from {{country}}\")"
   ]
  },
  {
   "cell_type": "code",
   "execution_count": 4,
   "id": "91f98aaf",
   "metadata": {},
   "outputs": [
    {
     "name": "stdout",
     "output_type": "stream",
     "text": [
      "Each individual has to pay 50.85 rupees!\n"
     ]
    }
   ],
   "source": [
    "price = 50.84513546\n",
    "total_amount = (f\"Each individual has to pay {price:.2f} rupees!\")\n",
    "print(total_amount)"
   ]
  },
  {
   "cell_type": "code",
   "execution_count": 12,
   "id": "4654cf23",
   "metadata": {},
   "outputs": [
    {
     "name": "stdout",
     "output_type": "stream",
     "text": [
      "100\n"
     ]
    }
   ],
   "source": [
    "print(f\"{2*50}\")"
   ]
  },
  {
   "cell_type": "code",
   "execution_count": null,
   "id": "0133a9d8",
   "metadata": {},
   "outputs": [],
   "source": [
    "#doc string: They're written just below function"
   ]
  },
  {
   "cell_type": "code",
   "execution_count": 18,
   "id": "fe26a0f2",
   "metadata": {},
   "outputs": [
    {
     "name": "stdout",
     "output_type": "stream",
     "text": [
      "64\n",
      "\n",
      "This is the square of the 'n'\n",
      "    \n"
     ]
    }
   ],
   "source": [
    "def square(n):\n",
    "    '''\n",
    "This is the square of the 'n'\n",
    "    '''\n",
    "    print(n*n)\n",
    "square(8)\n",
    "print(square.__doc__)\n",
    "    \n"
   ]
  },
  {
   "cell_type": "code",
   "execution_count": 19,
   "id": "6bfcebe3",
   "metadata": {},
   "outputs": [
    {
     "name": "stdout",
     "output_type": "stream",
     "text": [
      "The Zen of Python, by Tim Peters\n",
      "\n",
      "Beautiful is better than ugly.\n",
      "Explicit is better than implicit.\n",
      "Simple is better than complex.\n",
      "Complex is better than complicated.\n",
      "Flat is better than nested.\n",
      "Sparse is better than dense.\n",
      "Readability counts.\n",
      "Special cases aren't special enough to break the rules.\n",
      "Although practicality beats purity.\n",
      "Errors should never pass silently.\n",
      "Unless explicitly silenced.\n",
      "In the face of ambiguity, refuse the temptation to guess.\n",
      "There should be one-- and preferably only one --obvious way to do it.\n",
      "Although that way may not be obvious at first unless you're Dutch.\n",
      "Now is better than never.\n",
      "Although never is often better than *right* now.\n",
      "If the implementation is hard to explain, it's a bad idea.\n",
      "If the implementation is easy to explain, it may be a good idea.\n",
      "Namespaces are one honking great idea -- let's do more of those!\n"
     ]
    }
   ],
   "source": [
    "import this"
   ]
  },
  {
   "cell_type": "code",
   "execution_count": null,
   "id": "3d757ef8",
   "metadata": {},
   "outputs": [],
   "source": []
  }
 ],
 "metadata": {
  "kernelspec": {
   "display_name": "Python 3 (ipykernel)",
   "language": "python",
   "name": "python3"
  },
  "language_info": {
   "codemirror_mode": {
    "name": "ipython",
    "version": 3
   },
   "file_extension": ".py",
   "mimetype": "text/x-python",
   "name": "python",
   "nbconvert_exporter": "python",
   "pygments_lexer": "ipython3",
   "version": "3.11.5"
  }
 },
 "nbformat": 4,
 "nbformat_minor": 5
}
