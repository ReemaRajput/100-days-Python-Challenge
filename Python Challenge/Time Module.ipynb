{
 "cells": [
  {
   "cell_type": "code",
   "execution_count": 1,
   "id": "b9540b85",
   "metadata": {},
   "outputs": [
    {
     "name": "stdout",
     "output_type": "stream",
     "text": [
      "Current time in seconds: 1702889939.5976062\n",
      "Waiting for 2 seconds...\n",
      "Resumed after 2 seconds!\n",
      "Current time in a structured format: time.struct_time(tm_year=2023, tm_mon=12, tm_mday=18, tm_hour=14, tm_min=29, tm_sec=1, tm_wday=0, tm_yday=352, tm_isdst=0)\n",
      "Formatted time: 2023-12-18 14:29:01\n"
     ]
    }
   ],
   "source": [
    "import time\n",
    "\n",
    "# Get the current time in seconds since epoch\n",
    "current_time = time.time()\n",
    "print(\"Current time in seconds:\", current_time)\n",
    "\n",
    "# Pause the program for 2 seconds\n",
    "print(\"Waiting for 2 seconds...\")\n",
    "time.sleep(2)\n",
    "print(\"Resumed after 2 seconds!\")\n",
    "\n",
    "# Get the current time in a structured format\n",
    "structured_time = time.localtime()\n",
    "print(\"Current time in a structured format:\", structured_time)\n",
    "\n",
    "# Convert the structured time to a formatted string\n",
    "formatted_time = time.strftime(\"%Y-%m-%d %H:%M:%S\", structured_time)\n",
    "print(\"Formatted time:\", formatted_time)\n"
   ]
  },
  {
   "cell_type": "code",
   "execution_count": 2,
   "id": "acff8861",
   "metadata": {},
   "outputs": [],
   "source": [
    "# time.time(): Returns the current time in seconds since January 1, 1970 (also known as Unix epoch).\n",
    "# time.sleep(seconds): Pauses the program's execution for the specified number of seconds.\n",
    "# time.localtime(): Returns the current time in a structured format of year, month, day, hour, minute, second, etc., in the local timezone.\n",
    "# time.strftime(format, time_struct): Converts a time structure to a string according to a specified format."
   ]
  }
 ],
 "metadata": {
  "kernelspec": {
   "display_name": "Python 3 (ipykernel)",
   "language": "python",
   "name": "python3"
  },
  "language_info": {
   "codemirror_mode": {
    "name": "ipython",
    "version": 3
   },
   "file_extension": ".py",
   "mimetype": "text/x-python",
   "name": "python",
   "nbconvert_exporter": "python",
   "pygments_lexer": "ipython3",
   "version": "3.11.5"
  }
 },
 "nbformat": 4,
 "nbformat_minor": 5
}
