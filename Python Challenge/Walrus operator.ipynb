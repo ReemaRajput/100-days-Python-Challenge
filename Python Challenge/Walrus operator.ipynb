{
 "cells": [
  {
   "cell_type": "code",
   "execution_count": 1,
   "id": "eb3b6d22",
   "metadata": {},
   "outputs": [
    {
     "name": "stdout",
     "output_type": "stream",
     "text": [
      "False\n"
     ]
    }
   ],
   "source": [
    "# a =True\n",
    "print(a:=False)"
   ]
  },
  {
   "cell_type": "code",
   "execution_count": 2,
   "id": "527f18fe",
   "metadata": {},
   "outputs": [
    {
     "name": "stdout",
     "output_type": "stream",
     "text": [
      "6\n",
      "5\n",
      "4\n",
      "3\n",
      "2\n",
      "1\n"
     ]
    }
   ],
   "source": [
    "number = [1,2,3,4,5,6]\n",
    "\n",
    "while (n := len(number)) > 0:\n",
    "    print(number.pop())"
   ]
  },
  {
   "cell_type": "code",
   "execution_count": 3,
   "id": "b32d38c6",
   "metadata": {},
   "outputs": [
    {
     "name": "stdout",
     "output_type": "stream",
     "text": [
      "False\n",
      "True\n"
     ]
    }
   ],
   "source": [
    "happy = False\n",
    "print(happy)\n",
    "\n",
    "print(happy:= True)"
   ]
  },
  {
   "cell_type": "code",
   "execution_count": 4,
   "id": "0099ae0c",
   "metadata": {},
   "outputs": [
    {
     "name": "stdout",
     "output_type": "stream",
     "text": [
      "What food do you like?:orange\n",
      "What food do you like?:quit\n"
     ]
    }
   ],
   "source": [
    "# without walrus operator\n",
    "foods = list()\n",
    "while True:\n",
    "    food = input(\"What food do you like?:\")\n",
    "    \n",
    "    if food == \"quit\":\n",
    "        break\n",
    "    foods.append(food)"
   ]
  },
  {
   "cell_type": "code",
   "execution_count": 11,
   "id": "6271acb7",
   "metadata": {},
   "outputs": [
    {
     "name": "stdout",
     "output_type": "stream",
     "text": [
      "What food do you like?:orange\n",
      "What food do you like?:chocolate\n",
      "What food do you like?:almond\n",
      "What food do you like?:cake\n",
      "What food do you like?:quit\n"
     ]
    }
   ],
   "source": [
    "# with walrus operator\n",
    "foods = list()\n",
    "while (food := input(\"What food do you like?:\"))!=\"quit\":\n",
    "       foods.append(food)"
   ]
  },
  {
   "cell_type": "code",
   "execution_count": 5,
   "id": "cc6c241a",
   "metadata": {},
   "outputs": [],
   "source": [
    "# Walrus operator (:=) allows us to assign a value to a variable within an expression\n",
    "# assigns values to variable as part of a larger expression."
   ]
  }
 ],
 "metadata": {
  "kernelspec": {
   "display_name": "Python 3 (ipykernel)",
   "language": "python",
   "name": "python3"
  },
  "language_info": {
   "codemirror_mode": {
    "name": "ipython",
    "version": 3
   },
   "file_extension": ".py",
   "mimetype": "text/x-python",
   "name": "python",
   "nbconvert_exporter": "python",
   "pygments_lexer": "ipython3",
   "version": "3.11.5"
  }
 },
 "nbformat": 4,
 "nbformat_minor": 5
}
