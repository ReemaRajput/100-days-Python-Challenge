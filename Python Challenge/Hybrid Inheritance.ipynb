{
 "cells": [
  {
   "cell_type": "code",
   "execution_count": 1,
   "id": "514c5638",
   "metadata": {},
   "outputs": [],
   "source": [
    "#Hybrid Inheritance\n",
    "class BaseClass:\n",
    "    pass\n",
    "\n",
    "class Derived1(BaseClass):\n",
    "    pass\n",
    "\n",
    "class Derived2(BaseClass):\n",
    "    pass\n",
    "\n",
    "class Derived3(Derived1, Derived2):\n",
    "    pass"
   ]
  },
  {
   "cell_type": "code",
   "execution_count": null,
   "id": "76436d9e",
   "metadata": {},
   "outputs": [],
   "source": [
    "# Hierarchical Inheritance\n",
    "class BaseClass:\n",
    "    pass\n",
    "\n",
    "class D1(BaseClass):\n",
    "    pass\n",
    "\n",
    "class D2(BaseClass):\n",
    "    pass\n",
    "\n",
    "class D3(D1):\n",
    "    pass"
   ]
  }
 ],
 "metadata": {
  "kernelspec": {
   "display_name": "Python 3 (ipykernel)",
   "language": "python",
   "name": "python3"
  },
  "language_info": {
   "codemirror_mode": {
    "name": "ipython",
    "version": 3
   },
   "file_extension": ".py",
   "mimetype": "text/x-python",
   "name": "python",
   "nbconvert_exporter": "python",
   "pygments_lexer": "ipython3",
   "version": "3.11.5"
  }
 },
 "nbformat": 4,
 "nbformat_minor": 5
}
