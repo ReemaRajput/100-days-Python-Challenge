{
 "cells": [
  {
   "cell_type": "code",
   "execution_count": 17,
   "id": "a32b9daf",
   "metadata": {},
   "outputs": [
    {
     "name": "stdout",
     "output_type": "stream",
     "text": [
      "Reema\n",
      "5\n"
     ]
    }
   ],
   "source": [
    "#__init__ method\n",
    "\n",
    "class Employee:\n",
    "    def __init__(self,name):\n",
    "        self.name = name\n",
    "        \n",
    "    def __len__(self):\n",
    "        i = 0\n",
    "        for c in self.name:\n",
    "            i = i+1\n",
    "        return i\n",
    "    \n",
    "e = Employee(\"Reema\")\n",
    "print(e.name)\n",
    "print(len(e))"
   ]
  },
  {
   "cell_type": "code",
   "execution_count": 23,
   "id": "787addec",
   "metadata": {},
   "outputs": [
    {
     "name": "stdout",
     "output_type": "stream",
     "text": [
      "The name of the employee is Reema str\n"
     ]
    }
   ],
   "source": [
    "#__str__method\n",
    "\n",
    "class Employee:\n",
    "    def __init__(self,name):\n",
    "        self.name = name\n",
    "        \n",
    "    def __len__(self):\n",
    "        i = 0\n",
    "        for c in self.name:\n",
    "            i = i+1\n",
    "        return i\n",
    "    \n",
    "    def __str__(self):\n",
    "        return f\"The name of the employee is {self.name} str\"\n",
    "    \n",
    "    \n",
    "e = Employee(\"Reema\")\n",
    "print(str(e))"
   ]
  },
  {
   "cell_type": "code",
   "execution_count": 27,
   "id": "c0562459",
   "metadata": {},
   "outputs": [
    {
     "name": "stdout",
     "output_type": "stream",
     "text": [
      "My name is Reema and I love to watch K-Dramas. repr\n"
     ]
    }
   ],
   "source": [
    "#__repr__method\n",
    "\n",
    "class Employee:\n",
    "    def __init__(self,name):\n",
    "        self.name = name\n",
    "        \n",
    "    def __len__(self):\n",
    "        i = 0\n",
    "        for c in self.name:\n",
    "            i = i+1\n",
    "        return i\n",
    "    \n",
    "    def __repr__(self):\n",
    "        return f\"My name is {self.name} and I love to watch K-Dramas. repr\"\n",
    "\n",
    "e = Employee(\"Reema\")\n",
    "print(repr(e))\n",
    "\n",
    "# repr is a method which represent the technique using which you can recreate it. "
   ]
  },
  {
   "cell_type": "code",
   "execution_count": 32,
   "id": "62daf664",
   "metadata": {},
   "outputs": [
    {
     "name": "stdout",
     "output_type": "stream",
     "text": [
      "Hey I am good\n"
     ]
    }
   ],
   "source": [
    "#call\n",
    "\n",
    "class Employee:\n",
    "    def __init__(self,name):\n",
    "        self.name = name\n",
    "        \n",
    "    def __len__(self):\n",
    "        i = 0\n",
    "        for c in self.name:\n",
    "            i = i+1\n",
    "        return i\n",
    "    \n",
    "    def __call__(self):\n",
    "        print(\"Hey I am good\")\n",
    "\n",
    "e = Employee(\"Reema\")\n",
    "e()"
   ]
  },
  {
   "cell_type": "code",
   "execution_count": null,
   "id": "3366c03b",
   "metadata": {},
   "outputs": [],
   "source": []
  },
  {
   "cell_type": "code",
   "execution_count": null,
   "id": "6776be80",
   "metadata": {},
   "outputs": [],
   "source": []
  },
  {
   "cell_type": "code",
   "execution_count": null,
   "id": "82614771",
   "metadata": {},
   "outputs": [],
   "source": [
    "#Magic method are defined in classes and their purpose is to perform special task.\n",
    "#__init__ method is a magic method that invokes automatically whenever a new instance of class is created = Constructor"
   ]
  }
 ],
 "metadata": {
  "kernelspec": {
   "display_name": "Python 3 (ipykernel)",
   "language": "python",
   "name": "python3"
  },
  "language_info": {
   "codemirror_mode": {
    "name": "ipython",
    "version": 3
   },
   "file_extension": ".py",
   "mimetype": "text/x-python",
   "name": "python",
   "nbconvert_exporter": "python",
   "pygments_lexer": "ipython3",
   "version": "3.11.5"
  }
 },
 "nbformat": 4,
 "nbformat_minor": 5
}
