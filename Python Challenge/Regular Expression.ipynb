{
 "cells": [
  {
   "cell_type": "code",
   "execution_count": 8,
   "id": "bc2495dc",
   "metadata": {},
   "outputs": [
    {
     "name": "stdout",
     "output_type": "stream",
     "text": [
      "(0, 4)\n",
      "Data\n",
      "(262, 266)\n",
      "Data\n",
      "(415, 419)\n",
      "Zata\n",
      "(567, 571)\n",
      "Data\n"
     ]
    }
   ],
   "source": [
    "import re\n",
    "\n",
    "pattern = r\"[A-Z]+ata\"\n",
    "\n",
    "text = '''Data science is an interdisciplinary academic field[1] that uses statistics, scientific computing, scientific methods,\n",
    "processes, algorithms and systems to extract or extrapolate knowledge and insights from potentially noisy, structured, or\n",
    "unstructured data.[2]Data science also integrates domain knowledge from the underlying application domain \n",
    "(e.g., natural sciences, information technology, and medicine).[3] Zata science is multifaceted and can be described as a \n",
    "science, a research paradigm, a research method, a discipline, a workflow, and a profession.[4]\n",
    "Data science is a \"concept to unify statistics, data analysis, informatics, and their related methods\" to \"understand and \n",
    "analyze actual phenomena\" with data.[5] It uses techniques and theories drawn from many fields within the context of \n",
    "mathematics, statistics, computer science, information science, and domain knowledge.[6] However, data science is different from\n",
    "computer science and information science. Turing Award winner Jim Gray imagined data science as a \"fourth paradigm\" of science\n",
    "(empirical, theoretical, computational, and now data-driven) and asserted that \"everything about science is changing because of \n",
    "the impact of information technology\" and the data deluge.[7][8]A data scientist is a professional who creates programming code \n",
    "and combines it with statistical knowledge to create insights from data.[9]'''\n",
    "\n",
    "# match = re.search(pattern,text)\n",
    "# print(match)\n",
    "matches = re.finditer(pattern, text)\n",
    "for match in matches:\n",
    "    print(match.span())\n",
    "    print(text[match.span()[0]:match.span()[1]])"
   ]
  },
  {
   "cell_type": "code",
   "execution_count": 9,
   "id": "a10d2c63",
   "metadata": {},
   "outputs": [],
   "source": [
    "#read docs.python for more clarity & regexr website"
   ]
  },
  {
   "cell_type": "code",
   "execution_count": null,
   "id": "f6cb9cab",
   "metadata": {},
   "outputs": [],
   "source": []
  }
 ],
 "metadata": {
  "kernelspec": {
   "display_name": "Python 3 (ipykernel)",
   "language": "python",
   "name": "python3"
  },
  "language_info": {
   "codemirror_mode": {
    "name": "ipython",
    "version": 3
   },
   "file_extension": ".py",
   "mimetype": "text/x-python",
   "name": "python",
   "nbconvert_exporter": "python",
   "pygments_lexer": "ipython3",
   "version": "3.11.5"
  }
 },
 "nbformat": 4,
 "nbformat_minor": 5
}
