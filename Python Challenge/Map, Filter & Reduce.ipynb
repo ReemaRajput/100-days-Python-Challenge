{
 "cells": [
  {
   "cell_type": "code",
   "execution_count": null,
   "id": "02bbcbd4",
   "metadata": {},
   "outputs": [],
   "source": [
    "#Map"
   ]
  },
  {
   "cell_type": "code",
   "execution_count": 1,
   "id": "69914318",
   "metadata": {},
   "outputs": [
    {
     "name": "stdout",
     "output_type": "stream",
     "text": [
      "125\n"
     ]
    }
   ],
   "source": [
    "#via normal function\n",
    "\n",
    "def cube(x):\n",
    "    return x*x*x\n",
    "\n",
    "print(cube(5))"
   ]
  },
  {
   "cell_type": "code",
   "execution_count": 4,
   "id": "b7d5a033",
   "metadata": {},
   "outputs": [
    {
     "name": "stdout",
     "output_type": "stream",
     "text": [
      "[8, 125, 216, 343, 512, 729]\n"
     ]
    }
   ],
   "source": [
    "#via Map Function\n",
    "\n",
    "x = [2,5,6,7,8,9]\n",
    "new_x = list(map(cube, x))\n",
    "print(new_x)"
   ]
  },
  {
   "cell_type": "code",
   "execution_count": 10,
   "id": "8f9bd91b",
   "metadata": {},
   "outputs": [
    {
     "name": "stdout",
     "output_type": "stream",
     "text": [
      "[8, 125, 216, 343, 512, 729]\n"
     ]
    }
   ],
   "source": [
    "#via Map with lambda function\n",
    "x = [2,5,6,7,8,9]\n",
    "new_x = list(map(lambda y: y*y*y, x))\n",
    "print(new_x)"
   ]
  },
  {
   "cell_type": "code",
   "execution_count": null,
   "id": "6ea1d4a5",
   "metadata": {},
   "outputs": [],
   "source": [
    "#Filter"
   ]
  },
  {
   "cell_type": "code",
   "execution_count": 8,
   "id": "ecfeb30e",
   "metadata": {},
   "outputs": [
    {
     "name": "stdout",
     "output_type": "stream",
     "text": [
      "[6, 7, 8, 9]\n"
     ]
    }
   ],
   "source": [
    "def filter_function(a):\n",
    "    return a>5\n",
    "newest_x = list(filter(filter_function, x))\n",
    "print(newest_x)"
   ]
  },
  {
   "cell_type": "code",
   "execution_count": 11,
   "id": "70d8beb6",
   "metadata": {},
   "outputs": [],
   "source": [
    "#Reduce"
   ]
  },
  {
   "cell_type": "code",
   "execution_count": 13,
   "id": "46712970",
   "metadata": {},
   "outputs": [
    {
     "name": "stdout",
     "output_type": "stream",
     "text": [
      "28\n"
     ]
    }
   ],
   "source": [
    "from functools import reduce\n",
    "\n",
    "num = [1,2,3,4,5,6,7]\n",
    "\n",
    "def mysum(x,y):  \n",
    "    return x+y     #1+2=3,3+3=6,6+4=10,10+5=15,15+6=21,21+7=28\n",
    "\n",
    "sum = reduce(mysum,num)\n",
    "print(sum)"
   ]
  },
  {
   "cell_type": "code",
   "execution_count": null,
   "id": "e6bb40dd",
   "metadata": {},
   "outputs": [],
   "source": [
    "#Map, filter and Reduce functions are higher order function\n",
    "#higher order function: A function can take another function as an argument"
   ]
  }
 ],
 "metadata": {
  "kernelspec": {
   "display_name": "Python 3 (ipykernel)",
   "language": "python",
   "name": "python3"
  },
  "language_info": {
   "codemirror_mode": {
    "name": "ipython",
    "version": 3
   },
   "file_extension": ".py",
   "mimetype": "text/x-python",
   "name": "python",
   "nbconvert_exporter": "python",
   "pygments_lexer": "ipython3",
   "version": "3.11.5"
  }
 },
 "nbformat": 4,
 "nbformat_minor": 5
}
