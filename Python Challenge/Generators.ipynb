{
 "cells": [
  {
   "cell_type": "code",
   "execution_count": 5,
   "id": "e2da33c3",
   "metadata": {},
   "outputs": [
    {
     "name": "stdout",
     "output_type": "stream",
     "text": [
      "0\n",
      "1\n",
      "2\n",
      "3\n",
      "4\n"
     ]
    }
   ],
   "source": [
    "def my_generator():\n",
    "    for i in range(5):\n",
    "        yield i  #yield keyword returns a generator and suspend the execution\n",
    "        \n",
    "gen = my_generator()\n",
    "print(next(gen))\n",
    "print(next(gen))\n",
    "print(next(gen))\n",
    "print(next(gen))\n",
    "print(next(gen))"
   ]
  },
  {
   "cell_type": "code",
   "execution_count": null,
   "id": "eb2720a8",
   "metadata": {},
   "outputs": [],
   "source": [
    "#generators are special type of function that allows us to create an iterable sequence of values.\n",
    "#generator function returns a generator object, which doesn't store values but it stores the info which can create values \n",
    "# instantly on the fly.\n"
   ]
  }
 ],
 "metadata": {
  "kernelspec": {
   "display_name": "Python 3 (ipykernel)",
   "language": "python",
   "name": "python3"
  },
  "language_info": {
   "codemirror_mode": {
    "name": "ipython",
    "version": 3
   },
   "file_extension": ".py",
   "mimetype": "text/x-python",
   "name": "python",
   "nbconvert_exporter": "python",
   "pygments_lexer": "ipython3",
   "version": "3.11.5"
  }
 },
 "nbformat": 4,
 "nbformat_minor": 5
}
